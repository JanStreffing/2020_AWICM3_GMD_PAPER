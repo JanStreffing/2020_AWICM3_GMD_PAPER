{
 "cells": [
  {
   "cell_type": "code",
   "execution_count": 3,
   "id": "cae14014",
   "metadata": {},
   "outputs": [],
   "source": [
    "import xarray as xr\n",
    "import os\n",
    "import pandas as pd\n",
    "import tqdm\n",
    "import numpy as np\n",
    "import time\n",
    "import cartopy.crs as ccrs\n",
    "import cartopy.feature as cfeature\n",
    "from cartopy.util import add_cyclic_point\n",
    "from netCDF4 import Dataset\n",
    "import cmocean\n",
    "\n",
    "from collections import OrderedDict\n",
    "from itertools import product\n",
    "import math\n",
    "from netCDF4 import Dataset\n",
    "from cdo import *   # python version\n",
    "cdo = Cdo()\n",
    "import matplotlib.pylab as plt\n",
    "%matplotlib inline"
   ]
  },
  {
   "cell_type": "code",
   "execution_count": 95,
   "id": "895daaf7",
   "metadata": {
    "tags": [
     "parameters"
    ]
   },
   "outputs": [],
   "source": [
    "# parameters cell\n",
    "input_paths = ['/p/largedata/hhb19/jstreffi/runtime/awicm-3.1/HIST/outdata/oifs/links/']\n",
    "\n",
    "input_names = ['HIST']\n",
    "\n",
    "clim='NCEP2'\n",
    "clim_var='air'\n",
    "climatology_files = ['air.2m.timemean.nc']\n",
    "title='Near surface (2m) air tempereature vs. NCEP2'\n",
    "climatology_path = '/p/project/chhb19/streffing1/obs/NCEP2/'\n",
    "'''\n",
    "clim='ERA5'\n",
    "clim_var='t2m'\n",
    "climatology_files = ['T2M_yearmean.nc']\n",
    "title='Near surface (2m) air tempereature vs. ERA5'\n",
    "climatology_path = '/p/project/chhb19/streffing1/obs/era5/netcdf/'\n",
    "'''\n",
    "exps = range(0, 1)\n",
    "figsize=(6, 4.5)\n",
    "dpi = 300\n",
    "ofile = None\n",
    "res = [192, 94]\n",
    "variable = ['T2M']\n",
    "variable_clim = 'air'\n",
    "levels = [-8.0,-5.0,-3.0,-2.0,-1.0,-.6,-.2,.2,.6,1.0,2.0,3.0,5.0,8.0]\n",
    "contour_outline_thickness = 0"
   ]
  },
  {
   "cell_type": "code",
   "execution_count": 96,
   "id": "cb104f6e",
   "metadata": {},
   "outputs": [],
   "source": [
    "# Set number of columns, in case of multiple variables\n",
    "def define_rowscol(input_paths, columns=len(input_paths), reduce=0):\n",
    "    number_paths = len(input_paths) - reduce\n",
    "#     columns = columns\n",
    "    if number_paths < columns:\n",
    "        ncol = number_paths\n",
    "    else:\n",
    "        ncol = columns\n",
    "    nrows = math.ceil(number_paths / columns)\n",
    "    return [nrows, ncol]"
   ]
  },
  {
   "cell_type": "code",
   "execution_count": 97,
   "id": "6f0aa2e6",
   "metadata": {},
   "outputs": [],
   "source": [
    "# Calculate Root Mean Square Deviation (RMSD)\n",
    "def rmsd(predictions, targets):\n",
    "    return np.sqrt(((predictions - targets) ** 2).mean())\n"
   ]
  },
  {
   "cell_type": "code",
   "execution_count": 98,
   "id": "f010c5a1",
   "metadata": {},
   "outputs": [],
   "source": [
    "# Mean Deviation\n",
    "def md(predictions, targets):\n",
    "    return (predictions - targets).mean()\n"
   ]
  },
  {
   "cell_type": "code",
   "execution_count": 99,
   "id": "c9a277c7",
   "metadata": {},
   "outputs": [],
   "source": [
    "# Load NCEP2 reanalysis data\n",
    "\n",
    "reanalysis_path = climatology_path+climatology_files[0]\n",
    "data_reanalysis_mean = np.squeeze(cdo.timmean(input=\"-remapcon,r\"+str(res[0])+\"x\"+str(res[1])+\" \"+str(reanalysis_path),returnArray=clim_var))\n"
   ]
  },
  {
   "cell_type": "code",
   "execution_count": 100,
   "id": "8bda56f7",
   "metadata": {},
   "outputs": [],
   "source": [
    "# Load model data\n",
    "\n",
    "data = OrderedDict()\n",
    "for exp_path, exp_name  in zip(input_paths, input_names):\n",
    "    data[exp_name] = {}\n",
    "    for v in variable:\n",
    "        paths = []\n",
    "        data[exp_name][v] = []\n",
    "        path = exp_path+'T2M_for_plot_timmean.nc'\n",
    "        data[exp_name][v].append(cdo.yearmean(input=\"-remapcon,r\"+str(res[0])+\"x\"+str(res[1])+\" \"+str(path),returnArray=v))\n",
    "        \n"
   ]
  },
  {
   "cell_type": "code",
   "execution_count": 1,
   "id": "9d79bcdf",
   "metadata": {},
   "outputs": [
    {
     "ename": "NameError",
     "evalue": "name 'OrderedDict' is not defined",
     "output_type": "error",
     "traceback": [
      "\u001b[0;31m---------------------------------------------------------------------------\u001b[0m",
      "\u001b[0;31mNameError\u001b[0m                                 Traceback (most recent call last)",
      "\u001b[0;32m/tmp/ipykernel_7539/3559268413.py\u001b[0m in \u001b[0;36m<module>\u001b[0;34m\u001b[0m\n\u001b[0;32m----> 1\u001b[0;31m \u001b[0mdata_model\u001b[0m \u001b[0;34m=\u001b[0m \u001b[0mOrderedDict\u001b[0m\u001b[0;34m(\u001b[0m\u001b[0;34m)\u001b[0m\u001b[0;34m\u001b[0m\u001b[0;34m\u001b[0m\u001b[0m\n\u001b[0m\u001b[1;32m      2\u001b[0m \u001b[0mdata_model_mean\u001b[0m \u001b[0;34m=\u001b[0m \u001b[0mOrderedDict\u001b[0m\u001b[0;34m(\u001b[0m\u001b[0;34m)\u001b[0m\u001b[0;34m\u001b[0m\u001b[0;34m\u001b[0m\u001b[0m\n\u001b[1;32m      3\u001b[0m \u001b[0;34m\u001b[0m\u001b[0m\n\u001b[1;32m      4\u001b[0m \u001b[0;34m\u001b[0m\u001b[0m\n\u001b[1;32m      5\u001b[0m \u001b[0;32mfor\u001b[0m \u001b[0mexp_name\u001b[0m \u001b[0;32min\u001b[0m \u001b[0minput_names\u001b[0m\u001b[0;34m:\u001b[0m\u001b[0;34m\u001b[0m\u001b[0;34m\u001b[0m\u001b[0m\n",
      "\u001b[0;31mNameError\u001b[0m: name 'OrderedDict' is not defined"
     ]
    }
   ],
   "source": [
    "data_model = OrderedDict()\n",
    "data_model_mean = OrderedDict()\n",
    "\n",
    "\n",
    "for exp_name in input_names:\n",
    "    data_model[exp_name] = np.squeeze(data[exp_name]['T2M']) \n",
    "    data_model_mean[exp_name] = data_model[exp_name]\n",
    "    if len(np.shape(data_model_mean[exp_name])) > 2:\n",
    "        data_model_mean[exp_name] = np.mean(data_model_mean[exp_name],axis=0)\n",
    "  \n",
    "\n",
    "print(np.shape(data_model_mean[exp_name]))\n",
    "print(np.shape(data_reanalysis_mean))\n",
    "\n",
    "lon = np.arange(0, 360, 1.875)\n",
    "lat = np.arange(-90, 90, 1.875)\n",
    "data_model_mean[exp_name], lon = add_cyclic_point(data_model_mean[exp_name], coord=lon)\n",
    "\n",
    "\n",
    "lon = np.arange(0, 360, 1.875)\n",
    "lat = np.arange(-90, 90, 180/94)\n",
    "data_reanalysis_mean, lon = add_cyclic_point(data_reanalysis_mean, coord=lon)\n",
    "\n",
    "print(np.shape(data_model_mean[exp_name]))\n",
    "print(np.shape(data_reanalysis_mean))\n",
    "\n",
    "\n",
    "rmsdval = rmsd(data_model_mean[exp_name],data_reanalysis_mean)\n",
    "mdval = md(data_model_mean[exp_name],data_reanalysis_mean)\n",
    "\n",
    "\n",
    "nrows, ncol = define_rowscol(input_paths)\n",
    "fig, axes = plt.subplots(nrows=nrows, ncols=ncol, figsize=figsize)\n",
    "if isinstance(axes, np.ndarray):\n",
    "    axes = axes.flatten()\n",
    "else:\n",
    "    axes = [axes]\n",
    "i = 0\n",
    "\n",
    "\n",
    "for key in input_names:\n",
    "\n",
    "    axes[i]=plt.subplot(nrows,ncol,i+1,projection=ccrs.PlateCarree())\n",
    "    axes[i].add_feature(cfeature.COASTLINE,zorder=3)\n",
    "    \n",
    "    \n",
    "    imf=plt.contourf(lon, lat, data_model_mean[exp_name]-\n",
    "                    data_reanalysis_mean, cmap=plt.cm.PuOr_r, \n",
    "                     levels=levels, extend='both',\n",
    "                     transform=ccrs.PlateCarree(),zorder=1)\n",
    "    line_colors = ['black' for l in imf.levels]\n",
    "    imc=plt.contour(lon, lat, data_model_mean[exp_name]-\n",
    "                    data_reanalysis_mean, colors=line_colors, \n",
    "                    levels=levels, linewidths=contour_outline_thickness,\n",
    "                    transform=ccrs.PlateCarree(),zorder=1)\n",
    "\n",
    "    axes[i].set_ylabel('K')\n",
    "    axes[i].set_xlabel('Simulation Year')\n",
    "    \n",
    "    axes[i].set_title(title,fontweight=\"bold\")\n",
    "    plt.tight_layout() \n",
    "    gl = axes[i].gridlines(crs=ccrs.PlateCarree(), draw_labels=True,\n",
    "                  linewidth=1, color='gray', alpha=0.2, linestyle='-')\n",
    "\n",
    "    gl.xlabels_bottom = False\n",
    "    i = i+1\n",
    "    \n",
    "    cbar_ax_abs = fig.add_axes([0.15, 0.11, 0.7, 0.05])\n",
    "    cbar_ax_abs.tick_params(labelsize=12)\n",
    "    cb = fig.colorbar(imf, cax=cbar_ax_abs, orientation='horizontal',ticks=levels)\n",
    "    cb.set_label(label=\"°C\", size='14')\n",
    "    cb.ax.tick_params(labelsize='12')\n",
    "    #plt.text(5, 168, r'rmsd='+str(round(rmsdval,3)))\n",
    "    #plt.text(-7.5, 168, r'bias='+str(round(mdval,3)))\n",
    "    \n",
    "for label in cb.ax.xaxis.get_ticklabels()[::2]:\n",
    "    label.set_visible(False)\n",
    "\n",
    "    \n",
    "ofile=variable[0]+'_vs_'+clim\n",
    "    \n",
    "if ofile is not None:\n",
    "    plt.savefig(ofile, dpi=dpi,bbox_inches='tight')\n",
    "    os.system(f'convert {ofile} -trim {ofile}_trimmed.png')\n",
    "    os.system(f'mv {ofile}_trimmed.png {ofile}')"
   ]
  },
  {
   "cell_type": "code",
   "execution_count": null,
   "id": "eee56c24",
   "metadata": {},
   "outputs": [],
   "source": []
  },
  {
   "cell_type": "code",
   "execution_count": null,
   "id": "dd2a9224",
   "metadata": {},
   "outputs": [],
   "source": []
  },
  {
   "cell_type": "code",
   "execution_count": null,
   "id": "bdae205a",
   "metadata": {},
   "outputs": [],
   "source": []
  }
 ],
 "metadata": {
  "celltoolbar": "Tags",
  "kernelspec": {
   "display_name": "Python 3 (ipykernel)",
   "language": "python",
   "name": "python3"
  },
  "language_info": {
   "codemirror_mode": {
    "name": "ipython",
    "version": 3
   },
   "file_extension": ".py",
   "mimetype": "text/x-python",
   "name": "python",
   "nbconvert_exporter": "python",
   "pygments_lexer": "ipython3",
   "version": "3.9.10"
  },
  "varInspector": {
   "cols": {
    "lenName": 16,
    "lenType": 16,
    "lenVar": 40
   },
   "kernels_config": {
    "python": {
     "delete_cmd_postfix": "",
     "delete_cmd_prefix": "del ",
     "library": "var_list.py",
     "varRefreshCmd": "print(var_dic_list())"
    },
    "r": {
     "delete_cmd_postfix": ") ",
     "delete_cmd_prefix": "rm(",
     "library": "var_list.r",
     "varRefreshCmd": "cat(var_dic_list()) "
    }
   },
   "position": {
    "height": "785.85px",
    "left": "1545px",
    "right": "20px",
    "top": "120px",
    "width": "356px"
   },
   "types_to_exclude": [
    "module",
    "function",
    "builtin_function_or_method",
    "instance",
    "_Feature"
   ],
   "window_display": true
  }
 },
 "nbformat": 4,
 "nbformat_minor": 5
}
