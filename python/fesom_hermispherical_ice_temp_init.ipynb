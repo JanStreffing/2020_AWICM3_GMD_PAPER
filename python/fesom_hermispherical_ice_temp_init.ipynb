{
 "cells": [
  {
   "cell_type": "code",
   "execution_count": 1,
   "id": "cae14014",
   "metadata": {},
   "outputs": [],
   "source": [
    "import numpy as np\n",
    "import netCDF4\n",
    "import matplotlib.pylab as plt\n",
    "%matplotlib inline"
   ]
  },
  {
   "cell_type": "code",
   "execution_count": 2,
   "id": "895daaf7",
   "metadata": {
    "tags": [
     "parameters"
    ]
   },
   "outputs": [],
   "source": [
    "# parameters cell\n",
    "#input_paths = ['/p/scratch/chhb19/streffing1/runtime/awicm3-frontiers/TCO639_O1_test_small/run_19900101-19900101/work/']\n",
    "input_paths = ['/p/scratch/chhb19/streffing1/runtime/awicm3-frontiers-xios/TCO639_psmpi21/run_19900101-19900101/work/']\n",
    "\n",
    "\n"
   ]
  },
  {
   "cell_type": "code",
   "execution_count": 4,
   "id": "ee7a3195",
   "metadata": {},
   "outputs": [],
   "source": [
    "file2read = netCDF4.Dataset(input_paths[0]+'grids.nc','r')\n",
    "lon_fesom = file2read.variables['feom.lon']  # access a variable in the file\n",
    "lat_fesom = file2read.variables['feom.lat']  # access a variable in the file\n",
    "\n",
    "file2read = netCDF4.Dataset('/p/project/chhb19/streffing1/input/fesom2/restart/DART/ice_temp.nc','r+')\n",
    "ice_temp = file2read.variables['ice_temp']  # access a variable in the file\n",
    "\n",
    "NH = np.where(lat_fesom[0] < lat_fesom[0]*2, -30, 0)\n",
    "\n",
    "ice_temp = ice_temp + NH\n",
    "\n",
    "file2read.variables['ice_temp'][:] = ice_temp[:]\n",
    "file2read.close() # if you want to write the variable back to disk"
   ]
  },
  {
   "cell_type": "code",
   "execution_count": null,
   "id": "95acad30",
   "metadata": {},
   "outputs": [],
   "source": []
  }
 ],
 "metadata": {
  "celltoolbar": "Tags",
  "kernelspec": {
   "display_name": "Python 3 (ipykernel)",
   "language": "python",
   "name": "python3"
  },
  "language_info": {
   "codemirror_mode": {
    "name": "ipython",
    "version": 3
   },
   "file_extension": ".py",
   "mimetype": "text/x-python",
   "name": "python",
   "nbconvert_exporter": "python",
   "pygments_lexer": "ipython3",
   "version": "3.9.6"
  },
  "varInspector": {
   "cols": {
    "lenName": 16,
    "lenType": 16,
    "lenVar": 40
   },
   "kernels_config": {
    "python": {
     "delete_cmd_postfix": "",
     "delete_cmd_prefix": "del ",
     "library": "var_list.py",
     "varRefreshCmd": "print(var_dic_list())"
    },
    "r": {
     "delete_cmd_postfix": ") ",
     "delete_cmd_prefix": "rm(",
     "library": "var_list.r",
     "varRefreshCmd": "cat(var_dic_list()) "
    }
   },
   "position": {
    "height": "785.85px",
    "left": "1545px",
    "right": "20px",
    "top": "120px",
    "width": "356px"
   },
   "types_to_exclude": [
    "module",
    "function",
    "builtin_function_or_method",
    "instance",
    "_Feature"
   ],
   "window_display": true
  }
 },
 "nbformat": 4,
 "nbformat_minor": 5
}
