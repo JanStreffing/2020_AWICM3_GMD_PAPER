{
 "cells": [
  {
   "cell_type": "code",
   "execution_count": 1,
   "id": "cae14014",
   "metadata": {},
   "outputs": [],
   "source": [
    "import xarray as xr\n",
    "import os\n",
    "import pandas as pd\n",
    "import tqdm\n",
    "import numpy as np\n",
    "import time\n",
    "import cartopy.crs as ccrs\n",
    "import cartopy.feature as cfeature\n",
    "from cartopy.util import add_cyclic_point\n",
    "from netCDF4 import Dataset\n",
    "import cmocean\n",
    "\n",
    "from collections import OrderedDict\n",
    "from itertools import product\n",
    "import math\n",
    "from netCDF4 import Dataset\n",
    "from cdo import *   # python version\n",
    "cdo = Cdo()\n",
    "import matplotlib.pylab as plt\n",
    "%matplotlib inline"
   ]
  },
  {
   "cell_type": "code",
   "execution_count": 2,
   "id": "895daaf7",
   "metadata": {
    "tags": [
     "parameters"
    ]
   },
   "outputs": [],
   "source": [
    "# parameters cell\n",
    "input_paths = ['/p/largedata/hhb19/jstreffi/runtime/awicm-3.1/HIST/outdata/oifs/links/']\n",
    "\n",
    "input_names = ['HIST']\n",
    "climatology_files = ['srf_rad_timmean.nc']\n",
    "climatology_path = '/p/project/chhb19/streffing1/obs/era5/netcdf/'\n",
    "exps = range(6, 8)\n",
    "figsize=(12, 9)\n",
    "dpi = 300\n",
    "ofile = None\n",
    "res = [720, 360]\n",
    "variable = ['SSR','STR','SSHF','SLHF']\n",
    "variable_clim = ['ssr','str','sshf','slhf']\n",
    "accumulation_period=21600\n",
    "levels = [-50,-30,-20,-10,-6,-2,2,6,10,20,30,50]\n",
    "\n",
    "contour_outline_thickness = 0"
   ]
  },
  {
   "cell_type": "code",
   "execution_count": 99,
   "id": "cb104f6e",
   "metadata": {},
   "outputs": [],
   "source": [
    "# Set number of columns, in case of multiple variables\n",
    "def define_rowscol(input_paths, columns=len(input_paths), reduce=0):\n",
    "    number_paths = len(input_paths) - reduce\n",
    "#     columns = columns\n",
    "    if number_paths < columns:\n",
    "        ncol = number_paths\n",
    "    else:\n",
    "        ncol = columns\n",
    "    nrows = math.ceil(number_paths / columns)\n",
    "    return [nrows, ncol]"
   ]
  },
  {
   "cell_type": "code",
   "execution_count": 100,
   "id": "6f0aa2e6",
   "metadata": {},
   "outputs": [],
   "source": [
    "# Calculate Root Mean Square Deviation (RMSD)\n",
    "def rmsd(predictions, targets):\n",
    "    return np.sqrt(((predictions - targets) ** 2).mean())\n"
   ]
  },
  {
   "cell_type": "code",
   "execution_count": 101,
   "id": "f010c5a1",
   "metadata": {},
   "outputs": [],
   "source": [
    "# Mean Deviation\n",
    "def md(predictions, targets):\n",
    "    return (predictions - targets).mean()\n"
   ]
  },
  {
   "cell_type": "code",
   "execution_count": 76,
   "id": "c9a277c7",
   "metadata": {},
   "outputs": [],
   "source": [
    "# Load ERA5 reanalysis data\n",
    "\n",
    "ERA5_data = OrderedDict()\n",
    "\n",
    "for varc in variable_clim:\n",
    "    ERA5_path = climatology_path+climatology_files[0]\n",
    "    ERA5_data[varc] = cdo.yearmean(input=\"-remapcon,r\"+str(res[0])+\"x\"+str(res[1])+\" \"+str(ERA5_path),returnArray=varc)/84600\n"
   ]
  },
  {
   "cell_type": "code",
   "execution_count": 77,
   "id": "8bda56f7",
   "metadata": {},
   "outputs": [
    {
     "name": "stderr",
     "output_type": "stream",
     "text": [
      "\r",
      "  0%|                                                                                                                                                                                        | 0/2 [00:00<?, ?it/s]"
     ]
    },
    {
     "name": "stdout",
     "output_type": "stream",
     "text": [
      "/p/largedata/hhb19/jstreffi/runtime/awicm-3.1/HIST/outdata/oifs/links//SSR_00006.nc\n"
     ]
    },
    {
     "name": "stderr",
     "output_type": "stream",
     "text": [
      "\r",
      " 50%|████████████████████████████████████████████████████████████████████████████████████████                                                                                        | 1/2 [00:03<00:03,  3.36s/it]"
     ]
    },
    {
     "name": "stdout",
     "output_type": "stream",
     "text": [
      "/p/largedata/hhb19/jstreffi/runtime/awicm-3.1/HIST/outdata/oifs/links//SSR_00007.nc\n"
     ]
    },
    {
     "name": "stderr",
     "output_type": "stream",
     "text": [
      "100%|████████████████████████████████████████████████████████████████████████████████████████████████████████████████████████████████████████████████████████████████████████████████| 2/2 [00:06<00:00,  3.37s/it]\n",
      "  0%|                                                                                                                                                                                        | 0/2 [00:00<?, ?it/s]"
     ]
    },
    {
     "name": "stdout",
     "output_type": "stream",
     "text": [
      "/p/largedata/hhb19/jstreffi/runtime/awicm-3.1/HIST/outdata/oifs/links//STR_00006.nc\n"
     ]
    },
    {
     "name": "stderr",
     "output_type": "stream",
     "text": [
      "\r",
      " 50%|████████████████████████████████████████████████████████████████████████████████████████                                                                                        | 1/2 [00:03<00:03,  3.32s/it]"
     ]
    },
    {
     "name": "stdout",
     "output_type": "stream",
     "text": [
      "/p/largedata/hhb19/jstreffi/runtime/awicm-3.1/HIST/outdata/oifs/links//STR_00007.nc\n"
     ]
    },
    {
     "name": "stderr",
     "output_type": "stream",
     "text": [
      "100%|████████████████████████████████████████████████████████████████████████████████████████████████████████████████████████████████████████████████████████████████████████████████| 2/2 [00:06<00:00,  3.33s/it]\n",
      "  0%|                                                                                                                                                                                        | 0/2 [00:00<?, ?it/s]"
     ]
    },
    {
     "name": "stdout",
     "output_type": "stream",
     "text": [
      "/p/largedata/hhb19/jstreffi/runtime/awicm-3.1/HIST/outdata/oifs/links//SSHF_00006.nc\n"
     ]
    },
    {
     "name": "stderr",
     "output_type": "stream",
     "text": [
      "\r",
      " 50%|████████████████████████████████████████████████████████████████████████████████████████                                                                                        | 1/2 [00:03<00:03,  3.35s/it]"
     ]
    },
    {
     "name": "stdout",
     "output_type": "stream",
     "text": [
      "/p/largedata/hhb19/jstreffi/runtime/awicm-3.1/HIST/outdata/oifs/links//SSHF_00007.nc\n"
     ]
    },
    {
     "name": "stderr",
     "output_type": "stream",
     "text": [
      "100%|████████████████████████████████████████████████████████████████████████████████████████████████████████████████████████████████████████████████████████████████████████████████| 2/2 [00:06<00:00,  3.38s/it]\n",
      "  0%|                                                                                                                                                                                        | 0/2 [00:00<?, ?it/s]"
     ]
    },
    {
     "name": "stdout",
     "output_type": "stream",
     "text": [
      "/p/largedata/hhb19/jstreffi/runtime/awicm-3.1/HIST/outdata/oifs/links//SLHF_00006.nc\n"
     ]
    },
    {
     "name": "stderr",
     "output_type": "stream",
     "text": [
      "\r",
      " 50%|████████████████████████████████████████████████████████████████████████████████████████                                                                                        | 1/2 [00:03<00:03,  3.48s/it]"
     ]
    },
    {
     "name": "stdout",
     "output_type": "stream",
     "text": [
      "/p/largedata/hhb19/jstreffi/runtime/awicm-3.1/HIST/outdata/oifs/links//SLHF_00007.nc\n"
     ]
    },
    {
     "name": "stderr",
     "output_type": "stream",
     "text": [
      "100%|████████████████████████████████████████████████████████████████████████████████████████████████████████████████████████████████████████████████████████████████████████████████| 2/2 [00:06<00:00,  3.43s/it]\n"
     ]
    }
   ],
   "source": [
    "# Load model data\n",
    "\n",
    "data = OrderedDict()\n",
    "for exp_path, exp_name  in zip(input_paths, input_names):\n",
    "    data[exp_name] = {}\n",
    "    for v in variable:\n",
    "        paths = []\n",
    "        data[exp_name][v] = []\n",
    "        for exp in tqdm.tqdm(exps):\n",
    "            path = exp_path+'/'+v+'_'+f'{exp:05d}.nc'\n",
    "            print(path)\n",
    "            data[exp_name][v].append(cdo.yearmean(input=\"-remapcon,r\"+str(res[0])+\"x\"+str(res[1])+\" \"+str(path),returnArray=v)/accumulation_period)"
   ]
  },
  {
   "cell_type": "code",
   "execution_count": 121,
   "id": "9d79bcdf",
   "metadata": {},
   "outputs": [],
   "source": [
    "data_model = OrderedDict()\n",
    "data_model_mean = OrderedDict()\n",
    "data_reanalysis_mean = OrderedDict()\n",
    "\n",
    "\n",
    "for exp_name in input_names:\n",
    "    for var in variable:\n",
    "        data_model_mean[exp_name,var]  = np.mean(data[exp_name][var],axis=0)\n",
    "        if len(np.shape(data_model_mean[exp_name,var] )) > 2:\n",
    "            data_model_mean[exp_name,var]  = np.mean(data_model_mean[exp_name,var] ,axis=0)\n",
    "            \n",
    "for varc in variable_clim:\n",
    "    data_reanalysis_mean[varc] = np.mean(ERA5_data[varc],axis=0)\n",
    "\n",
    "\n",
    "\n",
    "for var in variable:\n",
    "    lon = np.arange(0, 360, 0.5)\n",
    "    lat = np.arange(-90, 90, 0.5)\n",
    "    data_model_mean[exp_name,var], lon = add_cyclic_point(data_model_mean[exp_name,var], coord=lon)\n",
    "\n",
    "\n",
    "for varc in variable_clim:\n",
    "    lon = np.arange(0, 360, 0.5)\n",
    "    lat = np.arange(-90, 90, 0.5)\n",
    "    data_reanalysis_mean[varc], lon = add_cyclic_point(data_reanalysis_mean[varc], coord=lon)\n",
    "\n",
    "#rmsdval = rmsd(data_model_mean[exp_name],data_reanalysis_mean)\n",
    "#mdval = md(data_model_mean[exp_name],data_reanalysis_mean)\n",
    "\n"
   ]
  },
  {
   "cell_type": "code",
   "execution_count": 3,
   "id": "b42d260c",
   "metadata": {},
   "outputs": [
    {
     "ename": "NameError",
     "evalue": "name 'lon' is not defined",
     "output_type": "error",
     "traceback": [
      "\u001b[0;31m---------------------------------------------------------------------------\u001b[0m",
      "\u001b[0;31mNameError\u001b[0m                                 Traceback (most recent call last)",
      "\u001b[0;32m/tmp/ipykernel_4211/2593550708.py\u001b[0m in \u001b[0;36m<module>\u001b[0;34m\u001b[0m\n\u001b[1;32m     13\u001b[0m \u001b[0;34m\u001b[0m\u001b[0m\n\u001b[1;32m     14\u001b[0m \u001b[0;34m\u001b[0m\u001b[0m\n\u001b[0;32m---> 15\u001b[0;31m     imf=plt.contourf(lon, lat, data_model_mean[exp_name,var]-\n\u001b[0m\u001b[1;32m     16\u001b[0m                     \u001b[0mdata_reanalysis_mean\u001b[0m\u001b[0;34m[\u001b[0m\u001b[0mvarc\u001b[0m\u001b[0;34m]\u001b[0m\u001b[0;34m,\u001b[0m \u001b[0mcmap\u001b[0m\u001b[0;34m=\u001b[0m\u001b[0mplt\u001b[0m\u001b[0;34m.\u001b[0m\u001b[0mcm\u001b[0m\u001b[0;34m.\u001b[0m\u001b[0mPuOr_r\u001b[0m\u001b[0;34m,\u001b[0m\u001b[0;34m\u001b[0m\u001b[0;34m\u001b[0m\u001b[0m\n\u001b[1;32m     17\u001b[0m                     \u001b[0mlevels\u001b[0m\u001b[0;34m=\u001b[0m\u001b[0mlevels\u001b[0m\u001b[0;34m,\u001b[0m \u001b[0mextend\u001b[0m\u001b[0;34m=\u001b[0m\u001b[0;34m'both'\u001b[0m\u001b[0;34m,\u001b[0m\u001b[0;34m\u001b[0m\u001b[0;34m\u001b[0m\u001b[0m\n",
      "\u001b[0;31mNameError\u001b[0m: name 'lon' is not defined"
     ]
    },
    {
     "data": {
      "image/png": "[encoded data removed]",
      "text/plain": [
       "<Figure size 864x648 with 4 Axes>"
      ]
     },
     "metadata": {
      "needs_background": "light"
     },
     "output_type": "display_data"
    }
   ],
   "source": [
    "\n",
    "nrows, ncol = 2,2\n",
    "fig, axes = plt.subplots(nrows=nrows, ncols=ncol, figsize=figsize)\n",
    "if isinstance(axes, np.ndarray):\n",
    "    axes = axes.flatten()\n",
    "else:\n",
    "    axes = [axes]\n",
    "i = 0\n",
    "\n",
    "\n",
    "for var, varc in zip(variable, variable_clim):\n",
    "    axes[i]=plt.subplot(nrows,ncol,i+1,projection=ccrs.PlateCarree())\n",
    "    axes[i].add_feature(cfeature.COASTLINE,zorder=3)\n",
    "    \n",
    "    \n",
    "    imf=plt.contourf(lon, lat, data_model_mean[exp_name,var]-\n",
    "                    data_reanalysis_mean[varc], cmap=plt.cm.PuOr_r, \n",
    "                    levels=levels, extend='both',\n",
    "                    transform=ccrs.PlateCarree(),zorder=1)\n",
    "    line_colors = ['black' for l in imf.levels]\n",
    "    imc=plt.contour(lon, lat, data_model_mean[exp_name,var]-\n",
    "                    data_reanalysis_mean[varc], colors=line_colors, \n",
    "                    levels=levels, linewidths=contour_outline_thickness,\n",
    "                    transform=ccrs.PlateCarree(),zorder=1)\n",
    "\n",
    "    axes[i].set_ylabel('K')\n",
    "    axes[i].set_xlabel('Simulation Year')\n",
    "    \n",
    "    #axes[i].set_title(\"AWI-CM3 model bias\")\n",
    "    gl = axes[i].gridlines(crs=ccrs.PlateCarree(), draw_labels=True,\n",
    "                  linewidth=1, color='gray', alpha=0.2, linestyle='-')\n",
    "\n",
    "    gl.xlabels_bottom = False\n",
    "\n",
    "\n",
    "    #plt.tight_layout() \n",
    "    cbar_ax_abs = fig.add_axes([0.15, 0.11, 0.7, 0.05])\n",
    "    cbar_ax_abs.tick_params(labelsize=12)\n",
    "    cb = fig.colorbar(imf, cax=cbar_ax_abs, orientation='horizontal',ticks=levels)\n",
    "    cb.set_label(label=\"W/m²\", size='14')\n",
    "    cb.ax.tick_params(labelsize='12')\n",
    "    #plt.text(5, 168, r'rmsd='+str(round(rmsdval,3)))\n",
    "    #plt.text(-7.5, 168, r'bias='+str(round(mdval,3)))\n",
    "    i = i+1\n",
    "    \n",
    "for label in cb.ax.xaxis.get_ticklabels()[::2]:\n",
    "    label.set_visible(False)\n",
    "\n",
    "plt.tight_layout(pad=0.4, w_pad=0.5, h_pad=100.0)\n",
    "\n",
    "ofile='heat_fluxes-era5'\n",
    "    \n",
    "if ofile is not None:\n",
    "    plt.savefig(ofile, dpi=dpi,bbox_inches='tight')\n",
    "    os.system(f'convert {ofile} -trim {ofile}_trimmed.png')\n",
    "    os.system(f'mv {ofile}_trimmed.png {ofile}')"
   ]
  },
  {
   "cell_type": "code",
   "execution_count": null,
   "id": "3757bff2",
   "metadata": {},
   "outputs": [],
   "source": []
  }
 ],
 "metadata": {
  "celltoolbar": "Tags",
  "kernelspec": {
   "display_name": "Python 3 (ipykernel)",
   "language": "python",
   "name": "python3"
  },
  "language_info": {
   "codemirror_mode": {
    "name": "ipython",
    "version": 3
   },
   "file_extension": ".py",
   "mimetype": "text/x-python",
   "name": "python",
   "nbconvert_exporter": "python",
   "pygments_lexer": "ipython3",
   "version": "3.9.9"
  },
  "varInspector": {
   "cols": {
    "lenName": 16,
    "lenType": 16,
    "lenVar": 40
   },
   "kernels_config": {
    "python": {
     "delete_cmd_postfix": "",
     "delete_cmd_prefix": "del ",
     "library": "var_list.py",
     "varRefreshCmd": "print(var_dic_list())"
    },
    "r": {
     "delete_cmd_postfix": ") ",
     "delete_cmd_prefix": "rm(",
     "library": "var_list.r",
     "varRefreshCmd": "cat(var_dic_list()) "
    }
   },
   "position": {
    "height": "785.85px",
    "left": "1545px",
    "right": "20px",
    "top": "120px",
    "width": "356px"
   },
   "types_to_exclude": [
    "module",
    "function",
    "builtin_function_or_method",
    "instance",
    "_Feature"
   ],
   "window_display": true
  }
 },
 "nbformat": 4,
 "nbformat_minor": 5
}
