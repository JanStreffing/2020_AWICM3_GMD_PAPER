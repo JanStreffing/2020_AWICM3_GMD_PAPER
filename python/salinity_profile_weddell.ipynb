{
 "cells": [
  {
   "cell_type": "code",
   "execution_count": 23,
   "metadata": {},
   "outputs": [],
   "source": [
    "import pyfesom2 as pf\n",
    "import xarray as xr\n",
    "import os\n",
    "import pandas as pd\n",
    "from collections import OrderedDict\n",
    "from itertools import product\n",
    "import matplotlib.pylab as plt\n",
    "import numpy as np\n",
    "from matplotlib import cm\n",
    "%matplotlib inline\n",
    "import matplotlib.pylab as plt\n",
    "from matplotlib.ticker import (MultipleLocator, FormatStrFormatter,\n",
    "                               AutoMinorLocator)\n",
    "import tqdm as tqdm\n",
    "from cdo import *   # python version\n",
    "cdo = Cdo()\n",
    "import csv\n",
    "import cmocean as cmo\n",
    "import dask\n",
    "from dask.delayed import delayed\n",
    "from dask.diagnostics import ProgressBar\n",
    "from multiprocessing.pool import ThreadPool\n",
    "dask.config.set(pool=ThreadPool(20))\n",
    "import math\n"
   ]
  },
  {
   "cell_type": "code",
   "execution_count": 24,
   "metadata": {
    "tags": [
     "parameters"
    ]
   },
   "outputs": [],
   "source": [
    "# parameters cell\n",
    "meshpath = '/p/project/chhb19/streffing1/input/fesom2/core2/'\n",
    "remap_resolution = '360x181'\n",
    "mesh_file = 'CORE2_finaltopo_mean.nc'\n",
    "abg = [0, 0, 0]\n",
    "variable = 'salt'\n",
    "input_paths = [\"/p/largedata/hhb19/jstreffi/runtime/awicm-3.1/PICT/outdata/fesom/\"\n",
    "               ]\n",
    "input_names = ['PICT']\n",
    "#input_paths = [\"/p/largedata/hhb19/jstreffi/runtime/awicm-3.1/SPIN/outdata/fesom/\"\n",
    "#               ]\n",
    "#input_names = ['SPIN']\n",
    "years = range(1989, 2015)\n",
    "reference_path = '/p/project/chhb19/streffing1/postprocessing/climatologies/fdiag/output_awicm3/'\n",
    "reference_name = 'clim'\n",
    "reference_years = 1958\n",
    "figsize=(7,4.3)\n",
    "levels = [-0.15, 0.15, 11]\n",
    "maxdepth = 10000\n",
    "units = r'$^\\circ$C'\n",
    "columns = 2\n",
    "dpi = 300\n",
    "ofile = \"Hovmoeller_temp\"\n",
    "region = \"Global Ocean\""
   ]
  },
  {
   "cell_type": "code",
   "execution_count": 25,
   "metadata": {},
   "outputs": [],
   "source": [
    "# Obtain input names from path if not set explicitly\n",
    "if input_names is None:\n",
    "    input_names = []\n",
    "    for run in input_paths:\n",
    "        run = os.path.join(run, '')\n",
    "        input_names.append(run.split('/')[-2])"
   ]
  },
  {
   "cell_type": "code",
   "execution_count": 26,
   "metadata": {},
   "outputs": [
    {
     "name": "stdout",
     "output_type": "stream",
     "text": [
      "/p/project/chhb19/streffing1/input/fesom2/core2/pickle_mesh_py3_fesom2\n",
      "The usepickle == True)\n",
      "The pickle file for FESOM2 exists.\n",
      "The mesh will be loaded from /p/project/chhb19/streffing1/input/fesom2/core2/pickle_mesh_py3_fesom2\n"
     ]
    }
   ],
   "source": [
    "# Load fesom2 mesh\n",
    "mesh = pf.load_mesh(meshpath, abg=abg, \n",
    "                    usepickle=True, usejoblib=False)"
   ]
  },
  {
   "cell_type": "code",
   "execution_count": 27,
   "metadata": {},
   "outputs": [],
   "source": [
    "# Load reference data\n",
    "path=reference_path+'/'+variable+'.fesom.'+str(reference_years)+'.nc'\n",
    "data_ref = cdo.yseasmean(input='-fldmean -sellonlatbox,-40,-30,-72,-67 -remap,r'+remap_resolution+','+meshpath+'/weights_unstr_2_r'+remap_resolution+'.nc -setgrid,'+meshpath+'/'+mesh_file+' -setmissval,nan -setctomiss,0  '+str(path),returnArray=variable)\n",
    "data_ref = np.squeeze(data_ref)"
   ]
  },
  {
   "cell_type": "code",
   "execution_count": 28,
   "metadata": {},
   "outputs": [
    {
     "name": "stderr",
     "output_type": "stream",
     "text": [
      "100%|███████████████████████████████████████████████████████████████████████████████████████████████████████████████████████████████████████████████████████████████████████████| 26/26 [00:00<00:00, 15169.27it/s]"
     ]
    },
    {
     "name": "stdout",
     "output_type": "stream",
     "text": [
      "[                                        ] | 0% Completed |  0.0s-fldmean -sellonlatbox,-55,0,-78,-60 -setmissval,nan -setctomiss,0 -remap,r360x181,/p/project/chhb19/streffing1/input/fesom2/core2//weights_unstr_2_r360x181.nc -setgrid,/p/project/chhb19/streffing1/input/fesom2/core2//CORE2_finaltopo_mean.nc /p/largedata/hhb19/jstreffi/runtime/awicm-3.1/PICT/outdata/fesom//salt.fesom.1996.nc\n",
      "-fldmean -sellonlatbox,-55,0,-78,-60 -setmissval,nan -setctomiss,0 -remap,r360x181,/p/project/chhb19/streffing1/input/fesom2/core2//weights_unstr_2_r360x181.nc -setgrid,/p/project/chhb19/streffing1/input/fesom2/core2//CORE2_finaltopo_mean.nc /p/largedata/hhb19/jstreffi/runtime/awicm-3.1/PICT/outdata/fesom//salt.fesom.2000.nc\n",
      "-fldmean -sellonlatbox,-55,0,-78,-60 -setmissval,nan -setctomiss,0 -remap,r360x181,/p/project/chhb19/streffing1/input/fesom2/core2//weights_unstr_2_r360x181.nc -setgrid,/p/project/chhb19/streffing1/input/fesom2/core2//CORE2_finaltopo_mean.nc /p/largedata/hhb19/jstreffi/runtime/awicm-3.1/PICT/outdata/fesom//salt.fesom.1989.nc\n",
      "-fldmean -sellonlatbox,-55,0,-78,-60 -setmissval,nan -setctomiss,0 -remap,r360x181,/p/project/chhb19/streffing1/input/fesom2/core2//weights_unstr_2_r360x181.nc -setgrid,/p/project/chhb19/streffing1/input/fesom2/core2//CORE2_finaltopo_mean.nc /p/largedata/hhb19/jstreffi/runtime/awicm-3.1/PICT/outdata/fesom//salt.fesom.2005.nc\n",
      "-fldmean -sellonlatbox,-55,0,-78,-60 -setmissval,nan -setctomiss,0 -remap,r360x181,/p/project/chhb19/streffing1/input/fesom2/core2//weights_unstr_2_r360x181.nc -setgrid,/p/project/chhb19/streffing1/input/fesom2/core2//CORE2_finaltopo_mean.nc /p/largedata/hhb19/jstreffi/runtime/awicm-3.1/PICT/outdata/fesom//salt.fesom.2013.nc-fldmean -sellonlatbox,-55,0,-78,-60 -setmissval,nan -setctomiss,0 -remap,r360x181,/p/project/chhb19/streffing1/input/fesom2/core2//weights_unstr_2_r360x181.nc -setgrid,/p/project/chhb19/streffing1/input/fesom2/core2//CORE2_finaltopo_mean.nc /p/largedata/hhb19/jstreffi/runtime/awicm-3.1/PICT/outdata/fesom//salt.fesom.1992.nc\n",
      "-fldmean -sellonlatbox,-55,0,-78,-60 -setmissval,nan -setctomiss,0 -remap,r360x181,/p/project/chhb19/streffing1/input/fesom2/core2//weights_unstr_2_r360x181.nc -setgrid,/p/project/chhb19/streffing1/input/fesom2/core2//CORE2_finaltopo_mean.nc /p/largedata/hhb19/jstreffi/runtime/awicm-3.1/PICT/outdata/fesom//salt.fesom.1993.nc\n",
      "-fldmean -sellonlatbox,-55,0,-78,-60 -setmissval,nan -setctomiss,0 -remap,r360x181,/p/project/chhb19/streffing1/input/fesom2/core2//weights_unstr_2_r360x181.nc -setgrid,/p/project/chhb19/streffing1/input/fesom2/core2//CORE2_finaltopo_mean.nc /p/largedata/hhb19/jstreffi/runtime/awicm-3.1/PICT/outdata/fesom//salt.fesom.1997.nc\n",
      "\n",
      "-fldmean -sellonlatbox,-55,0,-78,-60 -setmissval,nan -setctomiss,0 -remap,r360x181,/p/project/chhb19/streffing1/input/fesom2/core2//weights_unstr_2_r360x181.nc -setgrid,/p/project/chhb19/streffing1/input/fesom2/core2//CORE2_finaltopo_mean.nc /p/largedata/hhb19/jstreffi/runtime/awicm-3.1/PICT/outdata/fesom//salt.fesom.2012.nc-fldmean -sellonlatbox,-55,0,-78,-60 -setmissval,nan -setctomiss,0 -remap,r360x181,/p/project/chhb19/streffing1/input/fesom2/core2//weights_unstr_2_r360x181.nc -setgrid,/p/project/chhb19/streffing1/input/fesom2/core2//CORE2_finaltopo_mean.nc /p/largedata/hhb19/jstreffi/runtime/awicm-3.1/PICT/outdata/fesom//salt.fesom.2006.nc\n",
      "\n",
      "-fldmean -sellonlatbox,-55,0,-78,-60 -setmissval,nan -setctomiss,0 -remap,r360x181,/p/project/chhb19/streffing1/input/fesom2/core2//weights_unstr_2_r360x181.nc -setgrid,/p/project/chhb19/streffing1/input/fesom2/core2//CORE2_finaltopo_mean.nc /p/largedata/hhb19/jstreffi/runtime/awicm-3.1/PICT/outdata/fesom//salt.fesom.1998.nc\n",
      "-fldmean -sellonlatbox,-55,0,-78,-60 -setmissval,nan -setctomiss,0 -remap,r360x181,/p/project/chhb19/streffing1/input/fesom2/core2//weights_unstr_2_r360x181.nc -setgrid,/p/project/chhb19/streffing1/input/fesom2/core2//CORE2_finaltopo_mean.nc /p/largedata/hhb19/jstreffi/runtime/awicm-3.1/PICT/outdata/fesom//salt.fesom.2010.nc-fldmean -sellonlatbox,-55,0,-78,-60 -setmissval,nan -setctomiss,0 -remap,r360x181,/p/project/chhb19/streffing1/input/fesom2/core2//weights_unstr_2_r360x181.nc -setgrid,/p/project/chhb19/streffing1/input/fesom2/core2//CORE2_finaltopo_mean.nc /p/largedata/hhb19/jstreffi/runtime/awicm-3.1/PICT/outdata/fesom//salt.fesom.2003.nc\n",
      "-fldmean -sellonlatbox,-55,0,-78,-60 -setmissval,nan -setctomiss,0 -remap,r360x181,/p/project/chhb19/streffing1/input/fesom2/core2//weights_unstr_2_r360x181.nc -setgrid,/p/project/chhb19/streffing1/input/fesom2/core2//CORE2_finaltopo_mean.nc /p/largedata/hhb19/jstreffi/runtime/awicm-3.1/PICT/outdata/fesom//salt.fesom.2004.nc\n",
      "-fldmean -sellonlatbox,-55,0,-78,-60 -setmissval,nan -setctomiss,0 -remap,r360x181,/p/project/chhb19/streffing1/input/fesom2/core2//weights_unstr_2_r360x181.nc -setgrid,/p/project/chhb19/streffing1/input/fesom2/core2//CORE2_finaltopo_mean.nc /p/largedata/hhb19/jstreffi/runtime/awicm-3.1/PICT/outdata/fesom//salt.fesom.2002.nc\n",
      "\n",
      "-fldmean -sellonlatbox,-55,0,-78,-60 -setmissval,nan -setctomiss,0 -remap,r360x181,/p/project/chhb19/streffing1/input/fesom2/core2//weights_unstr_2_r360x181.nc -setgrid,/p/project/chhb19/streffing1/input/fesom2/core2//CORE2_finaltopo_mean.nc /p/largedata/hhb19/jstreffi/runtime/awicm-3.1/PICT/outdata/fesom//salt.fesom.2008.nc\n",
      "-fldmean -sellonlatbox,-55,0,-78,-60 -setmissval,nan -setctomiss,0 -remap,r360x181,/p/project/chhb19/streffing1/input/fesom2/core2//weights_unstr_2_r360x181.nc -setgrid,/p/project/chhb19/streffing1/input/fesom2/core2//CORE2_finaltopo_mean.nc /p/largedata/hhb19/jstreffi/runtime/awicm-3.1/PICT/outdata/fesom//salt.fesom.2014.nc-fldmean -sellonlatbox,-55,0,-78,-60 -setmissval,nan -setctomiss,0 -remap,r360x181,/p/project/chhb19/streffing1/input/fesom2/core2//weights_unstr_2_r360x181.nc -setgrid,/p/project/chhb19/streffing1/input/fesom2/core2//CORE2_finaltopo_mean.nc /p/largedata/hhb19/jstreffi/runtime/awicm-3.1/PICT/outdata/fesom//salt.fesom.1995.nc\n",
      "-fldmean -sellonlatbox,-55,0,-78,-60 -setmissval,nan -setctomiss,0 -remap,r360x181,/p/project/chhb19/streffing1/input/fesom2/core2//weights_unstr_2_r360x181.nc -setgrid,/p/project/chhb19/streffing1/input/fesom2/core2//CORE2_finaltopo_mean.nc /p/largedata/hhb19/jstreffi/runtime/awicm-3.1/PICT/outdata/fesom//salt.fesom.1990.nc\n",
      "\n",
      "-fldmean -sellonlatbox,-55,0,-78,-60 -setmissval,nan -setctomiss,0 -remap,r360x181,/p/project/chhb19/streffing1/input/fesom2/core2//weights_unstr_2_r360x181.nc -setgrid,/p/project/chhb19/streffing1/input/fesom2/core2//CORE2_finaltopo_mean.nc /p/largedata/hhb19/jstreffi/runtime/awicm-3.1/PICT/outdata/fesom//salt.fesom.1999.nc\n",
      "[                                        ] | 0% Completed |  0.1s"
     ]
    },
    {
     "name": "stderr",
     "output_type": "stream",
     "text": [
      "\n"
     ]
    },
    {
     "name": "stdout",
     "output_type": "stream",
     "text": [
      "[                                        ] | 0% Completed |  4min 16.4s-fldmean -sellonlatbox,-55,0,-78,-60 -setmissval,nan -setctomiss,0 -remap,r360x181,/p/project/chhb19/streffing1/input/fesom2/core2//weights_unstr_2_r360x181.nc -setgrid,/p/project/chhb19/streffing1/input/fesom2/core2//CORE2_finaltopo_mean.nc /p/largedata/hhb19/jstreffi/runtime/awicm-3.1/PICT/outdata/fesom//salt.fesom.1994.nc\n",
      "[#                                       ] | 3% Completed |  4min 16.6s-fldmean -sellonlatbox,-55,0,-78,-60 -setmissval,nan -setctomiss,0 -remap,r360x181,/p/project/chhb19/streffing1/input/fesom2/core2//weights_unstr_2_r360x181.nc -setgrid,/p/project/chhb19/streffing1/input/fesom2/core2//CORE2_finaltopo_mean.nc /p/largedata/hhb19/jstreffi/runtime/awicm-3.1/PICT/outdata/fesom//salt.fesom.2007.nc\n",
      "-fldmean -sellonlatbox,-55,0,-78,-60 -setmissval,nan -setctomiss,0 -remap,r360x181,/p/project/chhb19/streffing1/input/fesom2/core2//weights_unstr_2_r360x181.nc -setgrid,/p/project/chhb19/streffing1/input/fesom2/core2//CORE2_finaltopo_mean.nc /p/largedata/hhb19/jstreffi/runtime/awicm-3.1/PICT/outdata/fesom//salt.fesom.2011.nc\n",
      "-fldmean -sellonlatbox,-55,0,-78,-60 -setmissval,nan -setctomiss,0 -remap,r360x181,/p/project/chhb19/streffing1/input/fesom2/core2//weights_unstr_2_r360x181.nc -setgrid,/p/project/chhb19/streffing1/input/fesom2/core2//CORE2_finaltopo_mean.nc /p/largedata/hhb19/jstreffi/runtime/awicm-3.1/PICT/outdata/fesom//salt.fesom.2001.nc\n",
      "[######                                  ] | 15% Completed |  4min 16.7s-fldmean -sellonlatbox,-55,0,-78,-60 -setmissval,nan -setctomiss,0 -remap,r360x181,/p/project/chhb19/streffing1/input/fesom2/core2//weights_unstr_2_r360x181.nc -setgrid,/p/project/chhb19/streffing1/input/fesom2/core2//CORE2_finaltopo_mean.nc /p/largedata/hhb19/jstreffi/runtime/awicm-3.1/PICT/outdata/fesom//salt.fesom.2009.nc\n",
      "[#######                                 ] | 19% Completed |  4min 16.8s-fldmean -sellonlatbox,-55,0,-78,-60 -setmissval,nan -setctomiss,0 -remap,r360x181,/p/project/chhb19/streffing1/input/fesom2/core2//weights_unstr_2_r360x181.nc -setgrid,/p/project/chhb19/streffing1/input/fesom2/core2//CORE2_finaltopo_mean.nc /p/largedata/hhb19/jstreffi/runtime/awicm-3.1/PICT/outdata/fesom//salt.fesom.1991.nc\n",
      "[########################################] | 100% Completed |  8min 25.9s\n"
     ]
    }
   ],
   "source": [
    "# Load model Data\n",
    "data = OrderedDict()\n",
    "\n",
    "def load_parallel(variable,path,remap_resolution,meshpath,mesh_file):\n",
    "    print('-fldmean -sellonlatbox,-55,0,-78,-60 -setmissval,nan -setctomiss,0 -remap,r'+remap_resolution+','+meshpath+'/weights_unstr_2_r'+remap_resolution+'.nc -setgrid,'+meshpath+'/'+mesh_file+' '+str(path))\n",
    "\n",
    "    data1 = cdo.yseasmean(input='-fldmean -sellonlatbox,-40,-30,-72,-67 -remap,r'+remap_resolution+','+meshpath+'/weights_unstr_2_r'+remap_resolution+'.nc -setgrid,'+meshpath+'/'+mesh_file+' -setmissval,nan -setctomiss,0  '+str(path),returnArray=variable)\n",
    "    return data1\n",
    "\n",
    "\n",
    "for exp_path, exp_name  in zip(input_paths, input_names):\n",
    "\n",
    "    datat = []\n",
    "    t = []\n",
    "    temporary = []\n",
    "    for year in tqdm.tqdm(years):\n",
    "        path = exp_path+'/'+variable+'.fesom.'+str(year)+'.nc'\n",
    "        temporary = dask.delayed(load_parallel)(variable,path,remap_resolution,meshpath,mesh_file)\n",
    "        t.append(temporary)\n",
    "\n",
    "    with ProgressBar():\n",
    "        datat = dask.compute(t)\n",
    "    data[exp_name] = np.squeeze(datat)\n"
   ]
  },
  {
   "cell_type": "code",
   "execution_count": 29,
   "metadata": {},
   "outputs": [],
   "source": [
    "# Read depths from 3D file, since mesh.zlevs is empty..\n",
    "depths = pd.read_csv(meshpath+'/aux3d.out',  nrows=mesh.nlev) "
   ]
  },
  {
   "cell_type": "code",
   "execution_count": 30,
   "metadata": {},
   "outputs": [],
   "source": [
    "# Reshape data and expand reference climatology to length for data in preparation for Hovmöller diagram\n",
    "data_ref_expand = OrderedDict()\n",
    "for exp_name  in input_names:\n",
    "    data[exp_name] = np.flip(np.squeeze(data[exp_name]),axis=1)\n",
    "    \n",
    "data_ref_expand = np.tile(data_ref,(np.shape(data[exp_name])[0],1)).T"
   ]
  },
  {
   "cell_type": "code",
   "execution_count": 31,
   "metadata": {},
   "outputs": [],
   "source": [
    "# Flip data for contourf plot\n",
    "data_diff = OrderedDict()\n",
    "data_abs = OrderedDict()\n",
    "data_abs_ref = OrderedDict()\n",
    "data_abs_hov = OrderedDict()\n",
    "\n",
    "for exp_name in input_names:\n",
    "    data_diff[exp_name]=np.flip(data[exp_name].T,axis=0)-data_ref_expand\n",
    "    data_abs_hov[exp_name]=np.flip(data[exp_name].T,axis=0)\n",
    "\n",
    "    data_abs[exp_name]=np.mean(np.flip(data[exp_name].T,axis=0),axis=1)\n",
    "    data_abs_ref[exp_name]=np.mean(data_ref_expand,axis=1)"
   ]
  },
  {
   "cell_type": "code",
   "execution_count": 32,
   "metadata": {},
   "outputs": [],
   "source": [
    "# Prepare coordianates for contourf plot\n",
    "X,Y = np.meshgrid(years,depths[:len(depths)-1])"
   ]
  },
  {
   "cell_type": "code",
   "execution_count": 33,
   "metadata": {},
   "outputs": [],
   "source": [
    "# Calculate number of rows and columns for plot\n",
    "def define_rowscol(input_paths, columns=len(input_paths), reduce=0):\n",
    "    number_paths = len(input_paths) - reduce\n",
    "#     columns = columns\n",
    "    if number_paths < columns:\n",
    "        ncol = number_paths\n",
    "    else:\n",
    "        ncol = columns\n",
    "    nrows = math.ceil(number_paths / columns)\n",
    "    return [nrows, ncol]"
   ]
  },
  {
   "cell_type": "code",
   "execution_count": 34,
   "metadata": {},
   "outputs": [
    {
     "name": "stderr",
     "output_type": "stream",
     "text": [
      "convert: unable to open image 'salt_Weddell': No such file or directory @ error/blob.c/OpenBlob/3533.\n",
      "convert: no decode delegate for this image format `' @ error/constitute.c/ReadImage/572.\n",
      "convert: no images defined `salt_Weddell_trimmed.png' @ error/convert.c/ConvertImageCommand/3322.\n",
      "mv: cannot stat 'salt_Weddell_trimmed.png': No such file or directory\n"
     ]
    },
    {
     "data": {
      "image/png": "[encoded data removed]",
      "text/plain": [
       "<Figure size 504x309.6 with 2 Axes>"
      ]
     },
     "metadata": {
      "needs_background": "light"
     },
     "output_type": "display_data"
    }
   ],
   "source": [
    "# Plot data and save it.\n",
    "\n",
    "if variable == \"temp\":\n",
    "    mapticks = np.linspace(-1.5,1.5,21)\n",
    "elif variable == \"salt\":\n",
    "    mapticks = np.linspace(-0.10,0.10,11)\n",
    "\n",
    "\n",
    "nrows, ncols = define_rowscol(input_paths)\n",
    "fig, axes = plt.subplots(nrows=nrows, ncols=ncols, figsize=(figsize[0]*ncols,figsize[1]*nrows))\n",
    "\n",
    "\n",
    "if isinstance(axes, np.ndarray):\n",
    "    axes = axes.flatten()\n",
    "else:\n",
    "    axes = [axes]\n",
    "\n",
    "\n",
    "i = 0\n",
    "for exp_name in data_diff:\n",
    "    im = axes[i].contourf(X,Y,data_diff[exp_name],levels=mapticks, cmap=cm.PuOr_r, extend='both')\n",
    "    axes[i].set_title(exp_name+' - '+reference_name)\n",
    "    axes[i].set_ylabel('Depth [m]')\n",
    "    axes[i].set_xlabel('Year')\n",
    "    axes[i].xaxis.set_major_formatter(FormatStrFormatter('%.0f'))\n",
    "    axes[i].set_ylim(-maxdepth)\n",
    "    axes[i].set_yscale('symlog')\n",
    "    i = i+1\n",
    "fig.tight_layout()\n",
    "\n",
    "if variable == \"temp\":\n",
    "    label='°C'\n",
    "elif variable == \"salt\":\n",
    "    label='PSU'\n",
    "    \n",
    "try:\n",
    "    cbar = fig.colorbar(im, ax=axes.ravel().tolist(),location='bottom', label=label, shrink=0.8, aspect=30, pad=0.2)\n",
    "except:\n",
    "    cbar = fig.colorbar(im, ax=axes,location='bottom', label=label, shrink=0.8, aspect=25, pad=0.16)\n",
    "\n",
    "ofile=variable+'_Weddell'\n",
    "\n",
    "if ofile is not None:\n",
    "    plt.savefig(ofile, dpi=dpi,bbox_inches='tight')\n",
    "    os.system(f'convert {ofile} -trim {ofile}_trimmed.png')\n",
    "    os.system(f'mv {ofile}_trimmed.png {ofile}')"
   ]
  },
  {
   "cell_type": "code",
   "execution_count": 35,
   "metadata": {},
   "outputs": [
    {
     "name": "stderr",
     "output_type": "stream",
     "text": [
      "convert: unable to open image 'salt_Weddell_abs': No such file or directory @ error/blob.c/OpenBlob/3533.\n",
      "convert: no decode delegate for this image format `' @ error/constitute.c/ReadImage/572.\n",
      "convert: no images defined `salt_Weddell_abs_trimmed.png' @ error/convert.c/ConvertImageCommand/3322.\n",
      "mv: cannot stat 'salt_Weddell_abs_trimmed.png': No such file or directory\n"
     ]
    },
    {
     "data": {
      "image/png": "[encoded data removed]",
      "text/plain": [
       "<Figure size 504x309.6 with 2 Axes>"
      ]
     },
     "metadata": {
      "needs_background": "light"
     },
     "output_type": "display_data"
    }
   ],
   "source": [
    "# Plot data and save it.\n",
    "\n",
    "if variable == \"temp\":\n",
    "    mapticks = np.linspace(-1.5,1.5,21)\n",
    "elif variable == \"salt\":\n",
    "    mapticks = np.linspace(34.1,34.8,11)\n",
    "\n",
    "\n",
    "nrows, ncols = define_rowscol(input_paths)\n",
    "fig, axes = plt.subplots(nrows=nrows, ncols=ncols, figsize=(figsize[0]*ncols,figsize[1]*nrows))\n",
    "\n",
    "\n",
    "if isinstance(axes, np.ndarray):\n",
    "    axes = axes.flatten()\n",
    "else:\n",
    "    axes = [axes]\n",
    "\n",
    "\n",
    "i = 0\n",
    "for exp_name in data_diff:\n",
    "    im = axes[i].contourf(X,Y,data_abs_hov[exp_name],levels=mapticks, cmap=cm.PuOr_r, extend='both')\n",
    "    #axes[i].set_title(exp_name+' - '+reference_name)\n",
    "    axes[i].set_ylabel('Depth [m]')\n",
    "    axes[i].set_xlabel('Year')\n",
    "    axes[i].xaxis.set_major_formatter(FormatStrFormatter('%.0f'))\n",
    "    axes[i].set_ylim(-maxdepth)\n",
    "    axes[i].set_yscale('symlog')\n",
    "    i = i+1\n",
    "fig.tight_layout()\n",
    "\n",
    "if variable == \"temp\":\n",
    "    label='°C'\n",
    "elif variable == \"salt\":\n",
    "    label='PSU'\n",
    "    \n",
    "try:\n",
    "    cbar = fig.colorbar(im, ax=axes.ravel().tolist(),location='bottom', label=label, shrink=0.8, aspect=30, pad=0.2)\n",
    "except:\n",
    "    cbar = fig.colorbar(im, ax=axes,location='bottom', label=label, shrink=0.8, aspect=25, pad=0.16)\n",
    "\n",
    "ofile=variable+'_Weddell_abs'\n",
    "\n",
    "if ofile is not None:\n",
    "    plt.savefig(ofile, dpi=dpi,bbox_inches='tight')\n",
    "    os.system(f'convert {ofile} -trim {ofile}_trimmed.png')\n",
    "    os.system(f'mv {ofile}_trimmed.png {ofile}')"
   ]
  },
  {
   "cell_type": "code",
   "execution_count": 36,
   "metadata": {},
   "outputs": [],
   "source": [
    "depths_plot=np.squeeze(depths)[:47]"
   ]
  },
  {
   "cell_type": "code",
   "execution_count": 37,
   "metadata": {},
   "outputs": [],
   "source": [
    "import matplotlib.ticker as mticker\n",
    "class MinorSymLogLocator(mticker.Locator):\n",
    "    \"\"\"\n",
    "    Dynamically find minor tick positions based on the positions of major ticks for a symlog scaling.\n",
    "    \n",
    "    Attributes\n",
    "    ----------\n",
    "    linthresh : float\n",
    "        The same linthresh value used when setting the symlog scale.\n",
    "        \n",
    "    \"\"\"\n",
    "    \n",
    "    def __init__(self, linthresh):\n",
    "        #super().__init__()\n",
    "        self.linthresh = linthresh\n",
    "\n",
    "    def __call__(self):\n",
    "        majorlocs = self.axis.get_majorticklocs()\n",
    "        # iterate through minor locs\n",
    "        minorlocs = []\n",
    "        # handle the lowest part\n",
    "        for i in range(1, len(majorlocs)):\n",
    "            majorstep = majorlocs[i] - majorlocs[i-1]\n",
    "            if abs(majorlocs[i-1] + majorstep/2) < self.linthresh:\n",
    "                ndivs = 10\n",
    "            else:\n",
    "                ndivs = 9\n",
    "            minorstep = majorstep / ndivs\n",
    "            locs = np.arange(majorlocs[i-1], majorlocs[i], minorstep)[1:]\n",
    "            minorlocs.extend(locs)\n",
    "        return self.raise_if_exceeds(np.array(minorlocs))\n",
    "\n",
    "    def tick_values(self, vmin, vmax):\n",
    "        raise NotImplementedError('Cannot get tick locations for a {0} type.'.format(type(self)))\n"
   ]
  },
  {
   "cell_type": "code",
   "execution_count": 40,
   "metadata": {},
   "outputs": [
    {
     "name": "stderr",
     "output_type": "stream",
     "text": [
      "convert: unable to open image 'salt_Weddell_abs_profile': No such file or directory @ error/blob.c/OpenBlob/3533.\n",
      "convert: no decode delegate for this image format `' @ error/constitute.c/ReadImage/572.\n",
      "convert: no images defined `salt_Weddell_abs_profile_trimmed.png' @ error/convert.c/ConvertImageCommand/3322.\n",
      "mv: cannot stat 'salt_Weddell_abs_profile_trimmed.png': No such file or directory\n"
     ]
    },
    {
     "data": {
      "image/png": "[encoded data removed]",
      "text/plain": [
       "<Figure size 324x324 with 1 Axes>"
      ]
     },
     "metadata": {
      "needs_background": "light"
     },
     "output_type": "display_data"
    }
   ],
   "source": [
    "fig, axes = plt.subplots(nrows=nrows, ncols=ncols, figsize=([4.5,4.5]))\n",
    "\n",
    "plt.plot(data_abs[exp_name],depths_plot,color='darkblue',linewidth=2,alpha=0.8)\n",
    "plt.plot(data_abs_ref[exp_name],depths_plot,color='black',linewidth=2)\n",
    "plt.legend(['PICT','PHC3'],fontsize=14)\n",
    "axes.set_yscale('symlog')\n",
    "axes.tick_params(axis='both', which='major', labelsize=14)\n",
    "axes.set_title(\"Weddell salinity profile\",fontweight=\"bold\", fontsize=14)\n",
    "\n",
    "axes.yaxis.set_minor_locator(MinorSymLogLocator(-10e4))\n",
    "axes.set_ylabel('Depth [m]',size=14)\n",
    "plt.xlabel('Salinity [PSU]',size=14)\n",
    "\n",
    "ofile=variable+'_Weddell_abs_profile'\n",
    "\n",
    "if ofile is not None:\n",
    "    plt.savefig(ofile, dpi=dpi,bbox_inches='tight')\n",
    "    os.system(f'convert {ofile} -trim {ofile}_trimmed.png')\n",
    "    os.system(f'mv {ofile}_trimmed.png {ofile}')"
   ]
  },
  {
   "cell_type": "code",
   "execution_count": 39,
   "metadata": {},
   "outputs": [
    {
     "name": "stderr",
     "output_type": "stream",
     "text": [
      "convert: unable to open image 'salt_Weddell_rel_profile': No such file or directory @ error/blob.c/OpenBlob/3533.\n",
      "convert: no decode delegate for this image format `' @ error/constitute.c/ReadImage/572.\n",
      "convert: no images defined `salt_Weddell_rel_profile_trimmed.png' @ error/convert.c/ConvertImageCommand/3322.\n",
      "mv: cannot stat 'salt_Weddell_rel_profile_trimmed.png': No such file or directory\n"
     ]
    },
    {
     "data": {
      "image/png": "[encoded data removed]",
      "text/plain": [
       "<Figure size 504x309.6 with 1 Axes>"
      ]
     },
     "metadata": {
      "needs_background": "light"
     },
     "output_type": "display_data"
    }
   ],
   "source": [
    "fig, axes = plt.subplots(nrows=nrows, ncols=ncols, figsize=(figsize[0]*ncols,figsize[1]*nrows))\n",
    "\n",
    "plt.plot(data_abs[exp_name]-data_abs_ref[exp_name],depths_plot)\n",
    "plt.axvline(0,color='black')\n",
    "axes.set_yscale('symlog')\n",
    "axes.set_ylim(-6000,0)\n",
    "\n",
    "ofile=variable+'_Weddell_rel_profile'\n",
    "\n",
    "if ofile is not None:\n",
    "    plt.savefig(ofile, dpi=dpi,bbox_inches='tight')\n",
    "    os.system(f'convert {ofile} -trim {ofile}_trimmed.png')\n",
    "    os.system(f'mv {ofile}_trimmed.png {ofile}')"
   ]
  },
  {
   "cell_type": "code",
   "execution_count": null,
   "metadata": {},
   "outputs": [],
   "source": []
  }
 ],
 "metadata": {
  "kernelspec": {
   "display_name": "Python 3 (ipykernel)",
   "language": "python",
   "name": "python3"
  },
  "language_info": {
   "codemirror_mode": {
    "name": "ipython",
    "version": 3
   },
   "file_extension": ".py",
   "mimetype": "text/x-python",
   "name": "python",
   "nbconvert_exporter": "python",
   "pygments_lexer": "ipython3",
   "version": "3.9.10"
  }
 },
 "nbformat": 4,
 "nbformat_minor": 4
}
