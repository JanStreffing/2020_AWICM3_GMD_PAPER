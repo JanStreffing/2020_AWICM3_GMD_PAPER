{
 "cells": [
  {
   "cell_type": "code",
   "execution_count": 1,
   "metadata": {},
   "outputs": [
    {
     "name": "stdout",
     "output_type": "stream",
     "text": [
      "osgeo is not installed, conversion to Geo formats like Geotiff (fesom2GeoFormat) will not work.\n"
     ]
    }
   ],
   "source": [
    "import pyfesom2 as pf\n",
    "import xarray as xr\n",
    "import os\n",
    "import pandas as pd\n",
    "from collections import OrderedDict\n",
    "from itertools import product\n",
    "import matplotlib.pylab as plt\n",
    "import numpy as np\n",
    "from matplotlib import cm\n",
    "%matplotlib inline\n",
    "import matplotlib.pylab as plt\n",
    "from matplotlib.ticker import (MultipleLocator, FormatStrFormatter,\n",
    "                               AutoMinorLocator)\n",
    "import tqdm as tqdm\n",
    "from cdo import *   # python version\n",
    "cdo = Cdo()\n",
    "import csv\n",
    "import cmocean as cmo\n",
    "import dask\n",
    "from dask.delayed import delayed\n",
    "from dask.diagnostics import ProgressBar\n",
    "import math\n"
   ]
  },
  {
   "cell_type": "code",
   "execution_count": 23,
   "metadata": {
    "tags": [
     "parameters"
    ]
   },
   "outputs": [],
   "source": [
    "# parameters cell\n",
    "meshpath = '/p/project/chhb19/streffing1/input/fesom2/core2/'\n",
    "remap_resolution = '360x181'\n",
    "mesh_file = 'CORE2_finaltopo_mean.nc'\n",
    "abg = [0, 0, 0]\n",
    "variable = 'salt'\n",
    "input_paths = [\"/p/largedata/hhb19/jstreffi/runtime/awicm-3.1/PICT/outdata/fesom/\",\"/p/largedata/hhb19/jstreffi/runtime/awicm-3.1/HIST/outdata/fesom/\"\n",
    "               ]\n",
    "input_names = ['PICT','HIST']\n",
    "#input_paths = [\"/p/largedata/hhb19/jstreffi/runtime/awicm-3.1/SPIN/outdata/fesom/\"\n",
    "#               ]\n",
    "#input_names = ['SPIN']\n",
    "years = range(1850, 1860)\n",
    "reference_path = '/p/project/chhb19/streffing1/postprocessing/climatologies/fdiag/output_awicm3/'\n",
    "reference_name = 'clim'\n",
    "reference_years = 1958\n",
    "figsize=(7,4.3)\n",
    "#levels = [0, 35, 11]\n",
    "levels = [-1.5, 1.5, 11]\n",
    "maxdepth = 6000\n",
    "units = r'$^\\circ$C'\n",
    "columns = 2\n",
    "dpi = 500\n",
    "ofile = \"Hovmoeller_temp\"\n",
    "region = \"Global Ocean\""
   ]
  },
  {
   "cell_type": "code",
   "execution_count": 24,
   "metadata": {},
   "outputs": [],
   "source": [
    "# Obtain input names from path if not set explicitly\n",
    "if input_names is None:\n",
    "    input_names = []\n",
    "    for run in input_paths:\n",
    "        run = os.path.join(run, '')\n",
    "        input_names.append(run.split('/')[-2])"
   ]
  },
  {
   "cell_type": "code",
   "execution_count": 25,
   "metadata": {},
   "outputs": [
    {
     "name": "stdout",
     "output_type": "stream",
     "text": [
      "/p/project/chhb19/streffing1/input/fesom2/core2/pickle_mesh_py3_fesom2\n",
      "The usepickle == True)\n",
      "The pickle file for FESOM2 exists.\n",
      "The mesh will be loaded from /p/project/chhb19/streffing1/input/fesom2/core2/pickle_mesh_py3_fesom2\n"
     ]
    }
   ],
   "source": [
    "# Load fesom2 mesh\n",
    "mesh = pf.load_mesh(meshpath, abg=abg, \n",
    "                    usepickle=True, usejoblib=False)"
   ]
  },
  {
   "cell_type": "code",
   "execution_count": 26,
   "metadata": {},
   "outputs": [],
   "source": [
    "# Load reference data\n",
    "path=reference_path+'/'+variable+'.fesom.'+str(reference_years)+'.nc'\n",
    "data_ref = cdo.yearmean(input='-fldmean -setctomiss,0 -remap,r'+remap_resolution+','+meshpath+'/weights_unstr_2_r'+remap_resolution+'.nc -setgrid,'+meshpath+'/'+mesh_file+' '+str(path),returnArray=variable)\n",
    "data_ref = np.squeeze(data_ref)"
   ]
  },
  {
   "cell_type": "code",
   "execution_count": 27,
   "metadata": {},
   "outputs": [
    {
     "name": "stderr",
     "output_type": "stream",
     "text": [
      "100%|████████████████████████████████████████████████████████████████████████████████████████████████████████████████████████████████████████████████████████████████████████████| 10/10 [00:00<00:00, 8973.69it/s]"
     ]
    },
    {
     "name": "stdout",
     "output_type": "stream",
     "text": [
      "[                                        ] | 0% Completed |  0.1s"
     ]
    },
    {
     "name": "stderr",
     "output_type": "stream",
     "text": [
      "\n"
     ]
    },
    {
     "name": "stdout",
     "output_type": "stream",
     "text": [
      "[########################################] | 100% Completed |  3.4s\n"
     ]
    },
    {
     "name": "stderr",
     "output_type": "stream",
     "text": [
      "100%|███████████████████████████████████████████████████████████████████████████████████████████████████████████████████████████████████████████████████████████████████████████| 10/10 [00:00<00:00, 11768.53it/s]"
     ]
    },
    {
     "name": "stdout",
     "output_type": "stream",
     "text": [
      "[                                        ] | 0% Completed |  0.1s"
     ]
    },
    {
     "name": "stderr",
     "output_type": "stream",
     "text": [
      "\n"
     ]
    },
    {
     "name": "stdout",
     "output_type": "stream",
     "text": [
      "[########################################] | 100% Completed |  3.5s\n"
     ]
    }
   ],
   "source": [
    "# Load model Data\n",
    "data = OrderedDict()\n",
    "\n",
    "def load_parallel(variable,path,remap_resolution,meshpath,mesh_file):\n",
    "    data1 = cdo.yearmean(input='-fldmean -setctomiss,0 -remap,r'+remap_resolution+','+meshpath+'/weights_unstr_2_r'+remap_resolution+'.nc -setgrid,'+meshpath+'/'+mesh_file+' '+str(path),returnArray=variable)\n",
    "    return data1\n",
    "\n",
    "\n",
    "for exp_path, exp_name  in zip(input_paths, input_names):\n",
    "\n",
    "    datat = []\n",
    "    t = []\n",
    "    temporary = []\n",
    "    for year in tqdm.tqdm(years):\n",
    "        path = exp_path+'/'+variable+'.fesom.'+str(year)+'.nc'\n",
    "        temporary = dask.delayed(load_parallel)(variable,path,remap_resolution,meshpath,mesh_file)\n",
    "        t.append(temporary)\n",
    "\n",
    "    with ProgressBar():\n",
    "        datat = dask.compute(t)\n",
    "    data[exp_name] = np.squeeze(datat)\n"
   ]
  },
  {
   "cell_type": "code",
   "execution_count": 28,
   "metadata": {},
   "outputs": [],
   "source": [
    "# Read depths from 3D file, since mesh.zlevs is empty..\n",
    "depths = pd.read_csv(meshpath+'/aux3d.out',  nrows=mesh.nlev) "
   ]
  },
  {
   "cell_type": "code",
   "execution_count": 29,
   "metadata": {},
   "outputs": [],
   "source": [
    "# Reshape data and expand reference climatology to length for data in preparation for Hovmöller diagram\n",
    "data_ref_expand = OrderedDict()\n",
    "for exp_name  in input_names:\n",
    "    data[exp_name] = np.flip(np.squeeze(data[exp_name]),axis=1)\n",
    "    \n",
    "data_ref_expand = np.tile(data_ref,(np.shape(data[exp_name])[0],1)).T"
   ]
  },
  {
   "cell_type": "code",
   "execution_count": 30,
   "metadata": {},
   "outputs": [],
   "source": [
    "# Flip data for contourf plot\n",
    "data_diff = OrderedDict()\n",
    "for exp_name in input_names:\n",
    "    data_diff[exp_name]=np.flip(data[exp_name].T,axis=0)-data_ref_expand"
   ]
  },
  {
   "cell_type": "code",
   "execution_count": 31,
   "metadata": {},
   "outputs": [],
   "source": [
    "# Prepare coordianates for contourf plot\n",
    "X,Y = np.meshgrid(years,depths[:len(depths)-1])"
   ]
  },
  {
   "cell_type": "code",
   "execution_count": 32,
   "metadata": {},
   "outputs": [],
   "source": [
    "# Calculate number of rows and columns for plot\n",
    "def define_rowscol(input_paths, columns=len(input_paths), reduce=0):\n",
    "    number_paths = len(input_paths) - reduce\n",
    "#     columns = columns\n",
    "    if number_paths < columns:\n",
    "        ncol = number_paths\n",
    "    else:\n",
    "        ncol = columns\n",
    "    nrows = math.ceil(number_paths / columns)\n",
    "    return [nrows, ncol]"
   ]
  },
  {
   "cell_type": "code",
   "execution_count": 33,
   "metadata": {},
   "outputs": [
    {
     "name": "stderr",
     "output_type": "stream",
     "text": [
      "convert: unable to open image 'Hovmoeller_temp': No such file or directory @ error/blob.c/OpenBlob/3533.\n",
      "convert: no decode delegate for this image format `' @ error/constitute.c/ReadImage/572.\n",
      "convert: no images defined `Hovmoeller_temp_trimmed.png' @ error/convert.c/ConvertImageCommand/3322.\n",
      "mv: cannot stat 'Hovmoeller_temp_trimmed.png': No such file or directory\n"
     ]
    },
    {
     "data": {
      "image/png": "[encoded data removed]",
      "text/plain": [
       "<Figure size 1008x309.6 with 3 Axes>"
      ]
     },
     "metadata": {
      "needs_background": "light"
     },
     "output_type": "display_data"
    }
   ],
   "source": [
    "# Plot data and save it.\n",
    "mapticks = np.arange(levels[0],levels[1],0.1)\n",
    "\n",
    "nrows, ncols = define_rowscol(input_paths)\n",
    "fig, axes = plt.subplots(nrows=nrows, ncols=ncols, figsize=(figsize[0]*ncols,figsize[1]*nrows))\n",
    "\n",
    "\n",
    "if isinstance(axes, np.ndarray):\n",
    "    axes = axes.flatten()\n",
    "else:\n",
    "    axes = [axes]\n",
    "\n",
    "\n",
    "i = 0\n",
    "for exp_name in data_diff:\n",
    "    im = axes[i].contourf(X,Y,data_diff[exp_name],levels=mapticks, cmap=cm.PuOr_r, extend='both')\n",
    "    axes[i].set_title(exp_name+' - '+reference_name)\n",
    "    axes[i].set_ylabel('Depth [m]')\n",
    "    axes[i].set_xlabel('Year')\n",
    "    axes[i].xaxis.set_major_formatter(FormatStrFormatter('%.0f'))\n",
    "    axes[i].set_ylim(-maxdepth)\n",
    "    #axes[i].set_yscale('symlog')\n",
    "    i = i+1\n",
    "fig.tight_layout()\n",
    "\n",
    "if variable == \"temp\":\n",
    "    label='°C'\n",
    "elif variable == \"salt\":\n",
    "    label='PSU'\n",
    "    \n",
    "try:\n",
    "    cbar = fig.colorbar(im, ax=axes.ravel().tolist(),location='bottom', label=label, shrink=0.8, aspect=30, pad=0.2)\n",
    "except:\n",
    "    cbar = fig.colorbar(im, ax=axes,location='bottom', label=label, shrink=0.8, aspect=25, pad=0.16)\n",
    "\n",
    "\n",
    "\n",
    "if ofile is not None:\n",
    "    plt.savefig(ofile, dpi=dpi)\n",
    "    os.system(f'convert {ofile} -trim {ofile}_trimmed.png')\n",
    "    os.system(f'mv {ofile}_trimmed.png {ofile}')"
   ]
  },
  {
   "cell_type": "code",
   "execution_count": null,
   "metadata": {},
   "outputs": [],
   "source": []
  },
  {
   "cell_type": "code",
   "execution_count": null,
   "metadata": {},
   "outputs": [],
   "source": []
  },
  {
   "cell_type": "code",
   "execution_count": 34,
   "metadata": {},
   "outputs": [
    {
     "data": {
      "text/plain": [
       "array([[ 3.4464439e+01,  3.4466747e+01,  3.4466381e+01,  3.4466679e+01,\n",
       "         3.4460873e+01,  3.4461422e+01,  3.4458805e+01,  3.4451496e+01,\n",
       "         3.4456799e+01,  3.4460835e+01],\n",
       "       [ 3.4474941e+01,  3.4477039e+01,  3.4477375e+01,  3.4477440e+01,\n",
       "         3.4471889e+01,  3.4472118e+01,  3.4468174e+01,  3.4461216e+01,\n",
       "         3.4467480e+01,  3.4470291e+01],\n",
       "       [ 3.4531147e+01,  3.4537144e+01,  3.4536343e+01,  3.4536770e+01,\n",
       "         3.4527023e+01,  3.4528904e+01,  3.4521957e+01,  3.4516319e+01,\n",
       "         3.4525333e+01,  3.4529617e+01],\n",
       "       [ 3.4594082e+01,  3.4603714e+01,  3.4599205e+01,  3.4602577e+01,\n",
       "         3.4590931e+01,  3.4593670e+01,  3.4584991e+01,  3.4581970e+01,\n",
       "         3.4590439e+01,  3.4596203e+01],\n",
       "       [ 3.4187386e+01,  3.4193832e+01,  3.4189476e+01,  3.4192684e+01,\n",
       "         3.4183765e+01,  3.4185711e+01,  3.4177303e+01,  3.4177425e+01,\n",
       "         3.4186245e+01,  3.4192036e+01],\n",
       "       [ 3.4102848e+01,  3.4107662e+01,  3.4105549e+01,  3.4107208e+01,\n",
       "         3.4101551e+01,  3.4100307e+01,  3.4093201e+01,  3.4094646e+01,\n",
       "         3.4101288e+01,  3.4107422e+01],\n",
       "       [ 3.4084251e+01,  3.4087074e+01,  3.4087151e+01,  3.4087757e+01,\n",
       "         3.4085102e+01,  3.4081024e+01,  3.4075336e+01,  3.4077065e+01,\n",
       "         3.4080742e+01,  3.4087109e+01],\n",
       "       [ 3.4092186e+01,  3.4092796e+01,  3.4095352e+01,  3.4095284e+01,\n",
       "         3.4094822e+01,  3.4089722e+01,  3.4085064e+01,  3.4086052e+01,\n",
       "         3.4086086e+01,  3.4092873e+01],\n",
       "       [ 3.4115608e+01,  3.4114388e+01,  3.4118847e+01,  3.4117912e+01,\n",
       "         3.4119141e+01,  3.4114445e+01,  3.4110531e+01,  3.4110153e+01,\n",
       "         3.4106956e+01,  3.4113342e+01],\n",
       "       [ 3.4095150e+01,  3.4092793e+01,  3.4097584e+01,  3.4096779e+01,\n",
       "         3.4098244e+01,  3.4094128e+01,  3.4091702e+01,  3.4089836e+01,\n",
       "         3.4084900e+01,  3.4089546e+01],\n",
       "       [ 3.4087818e+01,  3.4084579e+01,  3.4088707e+01,  3.4088272e+01,\n",
       "         3.4089714e+01,  3.4086452e+01,  3.4085075e+01,  3.4082066e+01,\n",
       "         3.4076710e+01,  3.4079758e+01],\n",
       "       [ 3.4070423e+01,  3.4066105e+01,  3.4069389e+01,  3.4069096e+01,\n",
       "         3.4070847e+01,  3.4068497e+01,  3.4068031e+01,  3.4063969e+01,\n",
       "         3.4059002e+01,  3.4060711e+01],\n",
       "       [ 3.4028938e+01,  3.4024208e+01,  3.4026165e+01,  3.4025738e+01,\n",
       "         3.4028000e+01,  3.4026451e+01,  3.4026611e+01,  3.4022560e+01,\n",
       "         3.4018253e+01,  3.4018539e+01],\n",
       "       [ 3.3993542e+01,  3.3989620e+01,  3.3989895e+01,  3.3989155e+01,\n",
       "         3.3991344e+01,  3.3990852e+01,  3.3991344e+01,  3.3988415e+01,\n",
       "         3.3985538e+01,  3.3984249e+01],\n",
       "       [ 3.3923027e+01,  3.3921017e+01,  3.3920063e+01,  3.3919384e+01,\n",
       "         3.3920361e+01,  3.3920979e+01,  3.3921753e+01,  3.3920422e+01,\n",
       "         3.3919102e+01,  3.3916969e+01],\n",
       "       [ 3.3859982e+01,  3.3860466e+01,  3.3859325e+01,  3.3858986e+01,\n",
       "         3.3857906e+01,  3.3859268e+01,  3.3860207e+01,  3.3860657e+01,\n",
       "         3.3860191e+01,  3.3857967e+01],\n",
       "       [ 3.3771130e+01,  3.3771889e+01,  3.3770836e+01,  3.3770222e+01,\n",
       "         3.3769371e+01,  3.3770164e+01,  3.3771309e+01,  3.3773327e+01,\n",
       "         3.3772804e+01,  3.3770538e+01],\n",
       "       [ 3.3726223e+01,  3.3726860e+01,  3.3726318e+01,  3.3725243e+01,\n",
       "         3.3725327e+01,  3.3726067e+01,  3.3727161e+01,  3.3728863e+01,\n",
       "         3.3728081e+01,  3.3726154e+01],\n",
       "       [ 3.3660954e+01,  3.3661118e+01,  3.3661087e+01,  3.3660240e+01,\n",
       "         3.3660717e+01,  3.3661369e+01,  3.3662460e+01,  3.3663521e+01,\n",
       "         3.3662579e+01,  3.3660950e+01],\n",
       "       [ 3.3582184e+01,  3.3582047e+01,  3.3581997e+01,  3.3581600e+01,\n",
       "         3.3582108e+01,  3.3582458e+01,  3.3583668e+01,  3.3584435e+01,\n",
       "         3.3583363e+01,  3.3582401e+01],\n",
       "       [ 3.3491856e+01,  3.3491432e+01,  3.3491222e+01,  3.3491364e+01,\n",
       "         3.3491859e+01,  3.3491764e+01,  3.3492584e+01,  3.3493259e+01,\n",
       "         3.3492653e+01,  3.3492016e+01],\n",
       "       [ 3.3434448e+01,  3.3433918e+01,  3.3433384e+01,  3.3433563e+01,\n",
       "         3.3434048e+01,  3.3433704e+01,  3.3433884e+01,  3.3434139e+01,\n",
       "         3.3434052e+01,  3.3433784e+01],\n",
       "       [ 3.3402790e+01,  3.3402382e+01,  3.3402069e+01,  3.3402218e+01,\n",
       "         3.3402683e+01,  3.3402634e+01,  3.3402641e+01,  3.3402599e+01,\n",
       "         3.3402691e+01,  3.3402695e+01],\n",
       "       [ 3.3380875e+01,  3.3380653e+01,  3.3380669e+01,  3.3380852e+01,\n",
       "         3.3381187e+01,  3.3381134e+01,  3.3381187e+01,  3.3381008e+01,\n",
       "         3.3381134e+01,  3.3381126e+01],\n",
       "       [ 3.3347591e+01,  3.3347504e+01,  3.3347576e+01,  3.3347759e+01,\n",
       "         3.3347973e+01,  3.3347843e+01,  3.3347946e+01,  3.3347794e+01,\n",
       "         3.3348064e+01,  3.3348000e+01],\n",
       "       [ 3.3316669e+01,  3.3316711e+01,  3.3316853e+01,  3.3317055e+01,\n",
       "         3.3317200e+01,  3.3317039e+01,  3.3317089e+01,  3.3316933e+01,\n",
       "         3.3317249e+01,  3.3317215e+01],\n",
       "       [ 3.3289734e+01,  3.3289772e+01,  3.3289982e+01,  3.3290176e+01,\n",
       "         3.3290157e+01,  3.3290009e+01,  3.3289978e+01,  3.3289879e+01,\n",
       "         3.3290207e+01,  3.3290115e+01],\n",
       "       [ 3.3268776e+01,  3.3268871e+01,  3.3268967e+01,  3.3269077e+01,\n",
       "         3.3269016e+01,  3.3268967e+01,  3.3268955e+01,  3.3268929e+01,\n",
       "         3.3269238e+01,  3.3269142e+01],\n",
       "       [ 3.3207520e+01,  3.3207581e+01,  3.3207722e+01,  3.3207844e+01,\n",
       "         3.3207817e+01,  3.3207764e+01,  3.3207771e+01,  3.3207798e+01,\n",
       "         3.3207916e+01,  3.3207912e+01],\n",
       "       [ 3.3138214e+01,  3.3138252e+01,  3.3138355e+01,  3.3138405e+01,\n",
       "         3.3138393e+01,  3.3138390e+01,  3.3138447e+01,  3.3138508e+01,\n",
       "         3.3138584e+01,  3.3138569e+01],\n",
       "       [ 3.3054207e+01,  3.3054283e+01,  3.3054359e+01,  3.3054352e+01,\n",
       "         3.3054356e+01,  3.3054359e+01,  3.3054367e+01,  3.3054424e+01,\n",
       "         3.3054485e+01,  3.3054466e+01],\n",
       "       [ 3.2944305e+01,  3.2944336e+01,  3.2944374e+01,  3.2944382e+01,\n",
       "         3.2944382e+01,  3.2944412e+01,  3.2944469e+01,  3.2944595e+01,\n",
       "         3.2944607e+01,  3.2944633e+01],\n",
       "       [ 3.2816860e+01,  3.2816872e+01,  3.2816933e+01,  3.2816902e+01,\n",
       "         3.2816944e+01,  3.2816940e+01,  3.2817013e+01,  3.2817093e+01,\n",
       "         3.2817131e+01,  3.2817162e+01],\n",
       "       [ 3.2691631e+01,  3.2691643e+01,  3.2691677e+01,  3.2691647e+01,\n",
       "         3.2691624e+01,  3.2691685e+01,  3.2691715e+01,  3.2691845e+01,\n",
       "         3.2691906e+01,  3.2691940e+01],\n",
       "       [ 3.2389103e+01,  3.2389122e+01,  3.2389145e+01,  3.2389141e+01,\n",
       "         3.2389130e+01,  3.2389141e+01,  3.2389198e+01,  3.2389317e+01,\n",
       "         3.2389366e+01,  3.2389416e+01],\n",
       "       [ 3.1948799e+01,  3.1948797e+01,  3.1948811e+01,  3.1948820e+01,\n",
       "         3.1948828e+01,  3.1948811e+01,  3.1948843e+01,  3.1948879e+01,\n",
       "         3.1948910e+01,  3.1948980e+01],\n",
       "       [ 3.1556566e+01,  3.1556587e+01,  3.1556620e+01,  3.1556616e+01,\n",
       "         3.1556631e+01,  3.1556660e+01,  3.1556704e+01,  3.1556742e+01,\n",
       "         3.1556778e+01,  3.1556816e+01],\n",
       "       [ 3.1171896e+01,  3.1171930e+01,  3.1171932e+01,  3.1171955e+01,\n",
       "         3.1171944e+01,  3.1171997e+01,  3.1172024e+01,  3.1172102e+01,\n",
       "         3.1172125e+01,  3.1172173e+01],\n",
       "       [ 3.0647116e+01,  3.0647150e+01,  3.0647171e+01,  3.0647133e+01,\n",
       "         3.0647141e+01,  3.0647224e+01,  3.0647213e+01,  3.0647264e+01,\n",
       "         3.0647299e+01,  3.0647341e+01],\n",
       "       [ 3.0258873e+01,  3.0258932e+01,  3.0258961e+01,  3.0258968e+01,\n",
       "         3.0258970e+01,  3.0259007e+01,  3.0259062e+01,  3.0259075e+01,\n",
       "         3.0259104e+01,  3.0259127e+01],\n",
       "       [ 2.9730742e+01,  2.9730762e+01,  2.9730787e+01,  2.9730782e+01,\n",
       "         2.9730820e+01,  2.9730854e+01,  2.9730896e+01,  2.9730951e+01,\n",
       "         2.9730946e+01,  2.9730963e+01],\n",
       "       [ 2.9168638e+01,  2.9168644e+01,  2.9168688e+01,  2.9168726e+01,\n",
       "         2.9168741e+01,  2.9168789e+01,  2.9168825e+01,  2.9168880e+01,\n",
       "         2.9168880e+01,  2.9168901e+01],\n",
       "       [ 2.8158159e+01,  2.8158190e+01,  2.8158209e+01,  2.8158268e+01,\n",
       "         2.8158274e+01,  2.8158310e+01,  2.8158356e+01,  2.8158360e+01,\n",
       "         2.8158369e+01,  2.8158369e+01],\n",
       "       [ 2.7076847e+01,  2.7076885e+01,  2.7076910e+01,  2.7076939e+01,\n",
       "         2.7076986e+01,  2.7077065e+01,  2.7077152e+01,  2.7077188e+01,\n",
       "         2.7077188e+01,  2.7077225e+01],\n",
       "       [ 2.4996134e+01,  2.4996159e+01,  2.4996151e+01,  2.4996166e+01,\n",
       "         2.4996166e+01,  2.4996195e+01,  2.4996199e+01,  2.4996210e+01,\n",
       "         2.4996208e+01,  2.4996229e+01],\n",
       "       [ 2.1853596e+01,  2.1853573e+01,  2.1853537e+01,  2.1853552e+01,\n",
       "         2.1853556e+01,  2.1853527e+01,  2.1853489e+01,  2.1853474e+01,\n",
       "         2.1853464e+01,  2.1853474e+01],\n",
       "       [-8.9999999e+33, -8.9999999e+33, -8.9999999e+33, -8.9999999e+33,\n",
       "        -8.9999999e+33, -8.9999999e+33, -8.9999999e+33, -8.9999999e+33,\n",
       "        -8.9999999e+33, -8.9999999e+33]], dtype=float32)"
      ]
     },
     "execution_count": 34,
     "metadata": {},
     "output_type": "execute_result"
    }
   ],
   "source": [
    "np.flip(data[exp_name].T,axis=0)"
   ]
  },
  {
   "cell_type": "code",
   "execution_count": null,
   "metadata": {},
   "outputs": [],
   "source": []
  },
  {
   "cell_type": "code",
   "execution_count": null,
   "metadata": {},
   "outputs": [],
   "source": []
  }
 ],
 "metadata": {
  "kernelspec": {
   "display_name": "Python 3 (ipykernel)",
   "language": "python",
   "name": "python3"
  },
  "language_info": {
   "codemirror_mode": {
    "name": "ipython",
    "version": 3
   },
   "file_extension": ".py",
   "mimetype": "text/x-python",
   "name": "python",
   "nbconvert_exporter": "python",
   "pygments_lexer": "ipython3",
   "version": "3.9.10"
  }
 },
 "nbformat": 4,
 "nbformat_minor": 4
}
