{
 "cells": [
  {
   "cell_type": "code",
   "execution_count": 1,
   "metadata": {},
   "outputs": [
    {
     "name": "stdout",
     "output_type": "stream",
     "text": [
      "here in tplot\n",
      "osgeo is not installed, conversion to Geo formats like Geotiff (fesom2GeoFormat) will not work.\n"
     ]
    }
   ],
   "source": [
    "import pyfesom2 as pf\n",
    "import xarray as xr\n",
    "import os\n",
    "import pandas as pd\n",
    "from collections import OrderedDict\n",
    "from itertools import product\n",
    "import matplotlib.pylab as plt\n",
    "import numpy as np\n",
    "from matplotlib import cm\n",
    "%matplotlib inline\n",
    "import matplotlib.pylab as plt\n",
    "from matplotlib.ticker import (MultipleLocator, FormatStrFormatter,\n",
    "                               AutoMinorLocator)\n",
    "import tqdm as tqdm\n",
    "from cdo import *   # python version\n",
    "cdo = Cdo()\n",
    "import csv\n",
    "import cmocean as cmo\n",
    "import dask\n",
    "from dask.delayed import delayed\n",
    "from dask.diagnostics import ProgressBar\n",
    "import math\n",
    "import numpy as np\n"
   ]
  },
  {
   "cell_type": "code",
   "execution_count": 15,
   "metadata": {
    "tags": [
     "parameters"
    ]
   },
   "outputs": [],
   "source": [
    "# parameters cell\n",
    "meshpath = '/p/project/chhb19/streffing1/input/fesom2/core2/'\n",
    "remap_resolution = '360x181'\n",
    "mesh_file = 'CORE2_finaltopo_mean.nc'\n",
    "abg = [0, 0, 0]\n",
    "variable = 'temp'\n",
    "\n",
    "'''\n",
    "input_paths = [\"/p/largedata/hhb19/jstreffi/runtime/awicm-3.1/PICT/outdata/fesom/\",\"/p/largedata/hhb19/jstreffi/runtime/awicm-3.1/HIST/outdata/fesom/\"\n",
    "               ]\n",
    "input_names = ['PICT','HIST']\n",
    "'''\n",
    "\n",
    "input_paths = [\"/p/largedata/hhb19/jstreffi/runtime/awicm-3.1/SPIN/outdata/fesom/\"\n",
    "              ]\n",
    "input_names = ['SPIN']\n",
    "\n",
    "years = range(1850, 2549)\n",
    "reference_path = '/p/project/chhb19/streffing1/postprocessing/climatologies/fdiag/output_awicm3/'\n",
    "reference_name = 'clim'\n",
    "reference_years = 1958\n",
    "figsize=(7,5)\n",
    "#levels = [0, 35, 11]\n",
    "levels = [-1.5, 1.5, 11]\n",
    "maxdepth = 10000\n",
    "units = r'$^\\circ$C'\n",
    "columns = 2\n",
    "dpi = 300\n",
    "ofile = \"Hovmoeller_temp\"\n",
    "region = \"Global Ocean\""
   ]
  },
  {
   "cell_type": "code",
   "execution_count": 3,
   "metadata": {},
   "outputs": [],
   "source": [
    "# Obtain input names from path if not set explicitly\n",
    "if input_names is None:\n",
    "    input_names = []\n",
    "    for run in input_paths:\n",
    "        run = os.path.join(run, '')\n",
    "        input_names.append(run.split('/')[-2])"
   ]
  },
  {
   "cell_type": "code",
   "execution_count": 4,
   "metadata": {},
   "outputs": [
    {
     "name": "stdout",
     "output_type": "stream",
     "text": [
      "/p/project/chhb19/streffing1/input/fesom2/core2/pickle_mesh_py3_fesom2\n",
      "The usepickle == True)\n",
      "The pickle file for FESOM2 exists.\n",
      "The mesh will be loaded from /p/project/chhb19/streffing1/input/fesom2/core2/pickle_mesh_py3_fesom2\n"
     ]
    }
   ],
   "source": [
    "# Load fesom2 mesh\n",
    "mesh = pf.load_mesh(meshpath, abg=abg, \n",
    "                    usepickle=True, usejoblib=False)"
   ]
  },
  {
   "cell_type": "code",
   "execution_count": 5,
   "metadata": {},
   "outputs": [],
   "source": [
    "# Load reference data\n",
    "path=reference_path+'/'+variable+'.fesom.'+str(reference_years)+'.nc'\n",
    "data_ref = cdo.yearmean(input='-fldmean -setctomiss,0 -remap,r'+remap_resolution+','+meshpath+'/weights_unstr_2_r'+remap_resolution+'.nc -setgrid,'+meshpath+'/'+mesh_file+' '+str(path),returnArray=variable)\n",
    "data_ref = np.squeeze(data_ref)"
   ]
  },
  {
   "cell_type": "code",
   "execution_count": 6,
   "metadata": {},
   "outputs": [
    {
     "name": "stderr",
     "output_type": "stream",
     "text": [
      "100%|█████████████████████████████████████████████████████████████████████████████████████████████████████████████████████████████████████████████████████████████████████████| 699/699 [00:00<00:00, 22697.19it/s]"
     ]
    },
    {
     "name": "stdout",
     "output_type": "stream",
     "text": [
      "[                                        ] | 0% Completed |  0.1s"
     ]
    },
    {
     "name": "stderr",
     "output_type": "stream",
     "text": [
      "\n"
     ]
    },
    {
     "name": "stdout",
     "output_type": "stream",
     "text": [
      "[########################################] | 100% Completed |  8min 17.1s\n"
     ]
    }
   ],
   "source": [
    "# Load model Data\n",
    "data = OrderedDict()\n",
    "\n",
    "def load_parallel(variable,path,remap_resolution,meshpath,mesh_file):\n",
    "    data1 = cdo.yearmean(input='-fldmean -setctomiss,0 -remap,r'+remap_resolution+','+meshpath+'/weights_unstr_2_r'+remap_resolution+'.nc -setgrid,'+meshpath+'/'+mesh_file+' '+str(path),returnArray=variable)\n",
    "    return data1\n",
    "\n",
    "\n",
    "for exp_path, exp_name  in zip(input_paths, input_names):\n",
    "\n",
    "    datat = []\n",
    "    t = []\n",
    "    temporary = []\n",
    "    for year in tqdm.tqdm(years):\n",
    "        path = exp_path+'/'+variable+'.fesom.'+str(year)+'.nc'\n",
    "        temporary = dask.delayed(load_parallel)(variable,path,remap_resolution,meshpath,mesh_file)\n",
    "        t.append(temporary)\n",
    "\n",
    "    with ProgressBar():\n",
    "        datat = dask.compute(t)\n",
    "    data[exp_name] = np.squeeze(datat)\n"
   ]
  },
  {
   "cell_type": "code",
   "execution_count": 7,
   "metadata": {},
   "outputs": [],
   "source": [
    "# Read depths from 3D file, since mesh.zlevs is empty..\n",
    "depths = pd.read_csv(meshpath+'/aux3d.out',  nrows=mesh.nlev) "
   ]
  },
  {
   "cell_type": "code",
   "execution_count": 8,
   "metadata": {},
   "outputs": [],
   "source": [
    "# Reshape data and expand reference climatology to length for data in preparation for Hovmöller diagram\n",
    "data_ref_expand = OrderedDict()\n",
    "for exp_name  in input_names:\n",
    "    data[exp_name] = np.flip(np.squeeze(data[exp_name]),axis=1)\n",
    "    \n",
    "data_ref_expand = np.tile(data_ref,(np.shape(data[exp_name])[0],1)).T"
   ]
  },
  {
   "cell_type": "code",
   "execution_count": 9,
   "metadata": {},
   "outputs": [],
   "source": [
    "# Flip data for contourf plot\n",
    "data_diff = OrderedDict()\n",
    "for exp_name in input_names:\n",
    "    data_diff[exp_name]=np.flip(data[exp_name].T,axis=0)-data_ref_expand"
   ]
  },
  {
   "cell_type": "code",
   "execution_count": 10,
   "metadata": {},
   "outputs": [],
   "source": [
    "# Prepare coordianates for contourf plot\n",
    "X,Y = np.meshgrid(years,depths[:len(depths)-1])"
   ]
  },
  {
   "cell_type": "code",
   "execution_count": 11,
   "metadata": {},
   "outputs": [],
   "source": [
    "# Calculate number of rows and columns for plot\n",
    "def define_rowscol(input_paths, columns=len(input_paths), reduce=0):\n",
    "    number_paths = len(input_paths) - reduce\n",
    "#     columns = columns\n",
    "    if number_paths < columns:\n",
    "        ncol = number_paths\n",
    "    else:\n",
    "        ncol = columns\n",
    "    nrows = math.ceil(number_paths / columns)\n",
    "    return [nrows, ncol]"
   ]
  },
  {
   "cell_type": "code",
   "execution_count": 12,
   "metadata": {},
   "outputs": [],
   "source": [
    "import matplotlib.ticker as mticker\n",
    "class MinorSymLogLocator(mticker.Locator):\n",
    "    \"\"\"\n",
    "    Dynamically find minor tick positions based on the positions of major ticks for a symlog scaling.\n",
    "    \n",
    "    Attributes\n",
    "    ----------\n",
    "    linthresh : float\n",
    "        The same linthresh value used when setting the symlog scale.\n",
    "        \n",
    "    \"\"\"\n",
    "    \n",
    "    def __init__(self, linthresh):\n",
    "        #super().__init__()\n",
    "        self.linthresh = linthresh\n",
    "\n",
    "    def __call__(self):\n",
    "        majorlocs = self.axis.get_majorticklocs()\n",
    "        # iterate through minor locs\n",
    "        minorlocs = []\n",
    "        # handle the lowest part\n",
    "        for i in range(1, len(majorlocs)):\n",
    "            majorstep = majorlocs[i] - majorlocs[i-1]\n",
    "            if abs(majorlocs[i-1] + majorstep/2) < self.linthresh:\n",
    "                ndivs = 10\n",
    "            else:\n",
    "                ndivs = 9\n",
    "            minorstep = majorstep / ndivs\n",
    "            locs = np.arange(majorlocs[i-1], majorlocs[i], minorstep)[1:]\n",
    "            minorlocs.extend(locs)\n",
    "        return self.raise_if_exceeds(np.array(minorlocs))\n",
    "\n",
    "    def tick_values(self, vmin, vmax):\n",
    "        raise NotImplementedError('Cannot get tick locations for a {0} type.'.format(type(self)))\n"
   ]
  },
  {
   "cell_type": "code",
   "execution_count": 1,
   "metadata": {},
   "outputs": [
    {
     "ename": "NameError",
     "evalue": "name 'np' is not defined",
     "output_type": "error",
     "traceback": [
      "\u001b[0;31m---------------------------------------------------------------------------\u001b[0m",
      "\u001b[0;31mNameError\u001b[0m                                 Traceback (most recent call last)",
      "\u001b[0;32m/tmp/ipykernel_25538/1948254332.py\u001b[0m in \u001b[0;36m<module>\u001b[0;34m\u001b[0m\n\u001b[1;32m      1\u001b[0m \u001b[0;31m# Plot data and save it.\u001b[0m\u001b[0;34m\u001b[0m\u001b[0;34m\u001b[0m\u001b[0m\n\u001b[0;32m----> 2\u001b[0;31m \u001b[0mmapticks\u001b[0m \u001b[0;34m=\u001b[0m \u001b[0mnp\u001b[0m\u001b[0;34m.\u001b[0m\u001b[0marange\u001b[0m\u001b[0;34m(\u001b[0m\u001b[0mlevels\u001b[0m\u001b[0;34m[\u001b[0m\u001b[0;36m0\u001b[0m\u001b[0;34m]\u001b[0m\u001b[0;34m,\u001b[0m\u001b[0mlevels\u001b[0m\u001b[0;34m[\u001b[0m\u001b[0;36m1\u001b[0m\u001b[0;34m]\u001b[0m\u001b[0;34m,\u001b[0m\u001b[0;36m0.1\u001b[0m\u001b[0;34m)\u001b[0m\u001b[0;34m\u001b[0m\u001b[0;34m\u001b[0m\u001b[0m\n\u001b[0m\u001b[1;32m      3\u001b[0m \u001b[0;34m\u001b[0m\u001b[0m\n\u001b[1;32m      4\u001b[0m \u001b[0mnrows\u001b[0m\u001b[0;34m,\u001b[0m \u001b[0mncols\u001b[0m \u001b[0;34m=\u001b[0m \u001b[0mdefine_rowscol\u001b[0m\u001b[0;34m(\u001b[0m\u001b[0minput_paths\u001b[0m\u001b[0;34m)\u001b[0m\u001b[0;34m\u001b[0m\u001b[0;34m\u001b[0m\u001b[0m\n\u001b[1;32m      5\u001b[0m \u001b[0mfig\u001b[0m\u001b[0;34m,\u001b[0m \u001b[0maxes\u001b[0m \u001b[0;34m=\u001b[0m \u001b[0mplt\u001b[0m\u001b[0;34m.\u001b[0m\u001b[0msubplots\u001b[0m\u001b[0;34m(\u001b[0m\u001b[0mnrows\u001b[0m\u001b[0;34m=\u001b[0m\u001b[0mnrows\u001b[0m\u001b[0;34m,\u001b[0m \u001b[0mncols\u001b[0m\u001b[0;34m=\u001b[0m\u001b[0mncols\u001b[0m\u001b[0;34m,\u001b[0m \u001b[0mfigsize\u001b[0m\u001b[0;34m=\u001b[0m\u001b[0;34m(\u001b[0m\u001b[0mfigsize\u001b[0m\u001b[0;34m[\u001b[0m\u001b[0;36m0\u001b[0m\u001b[0;34m]\u001b[0m\u001b[0;34m*\u001b[0m\u001b[0mncols\u001b[0m\u001b[0;34m,\u001b[0m\u001b[0mfigsize\u001b[0m\u001b[0;34m[\u001b[0m\u001b[0;36m1\u001b[0m\u001b[0;34m]\u001b[0m\u001b[0;34m*\u001b[0m\u001b[0mnrows\u001b[0m\u001b[0;34m)\u001b[0m\u001b[0;34m)\u001b[0m\u001b[0;34m\u001b[0m\u001b[0;34m\u001b[0m\u001b[0m\n",
      "\u001b[0;31mNameError\u001b[0m: name 'np' is not defined"
     ]
    }
   ],
   "source": [
    "# Plot data and save it.\n",
    "mapticks = np.arange(levels[0],levels[1],0.1)\n",
    "\n",
    "nrows, ncols = define_rowscol(input_paths)\n",
    "fig, axes = plt.subplots(nrows=nrows, ncols=ncols, figsize=(figsize[0]*ncols,figsize[1]*nrows))\n",
    "\n",
    "\n",
    "if isinstance(axes, np.ndarray):\n",
    "    axes = axes.flatten()\n",
    "else:\n",
    "    axes = [axes]\n",
    "\n",
    "\n",
    "i = 0\n",
    "for exp_name in data_diff:\n",
    "    im = axes[i].contourf(X-701,Y,data_diff[exp_name],levels=mapticks, cmap=cm.PuOr_r, extend='both')\n",
    "    axes[i].set_title('Global ocean temperature bias',fontweight=\"bold\")\n",
    "    axes[i].set_ylabel('Depth [m]',size=13)\n",
    "    axes[i].set_xlabel('Year',size=13)\n",
    "    axes[i].xaxis.set_major_formatter(FormatStrFormatter('%.0f'))\n",
    "    axes[i].set_ylim(-maxdepth)\n",
    "    axes[i].set_yscale('symlog')\n",
    "    axes[i].xaxis.set_minor_locator(MultipleLocator(10))\n",
    "\n",
    "    axes[i].yaxis.set_minor_locator(MinorSymLogLocator(-10e4))\n",
    "    # turn minor ticks off\n",
    "    #axes[i].yaxis.set_minor_locator(NullLocator())\n",
    "\n",
    "\n",
    "\n",
    "    i = i+1\n",
    "fig.tight_layout()\n",
    "\n",
    "if variable == \"temp\":\n",
    "    label='°C'\n",
    "elif variable == \"salt\":\n",
    "    label='PSU'\n",
    "    \n",
    "try:\n",
    "    cbar = fig.colorbar(im, ax=axes.ravel().tolist(),location='bottom', label=label, shrink=0.8, aspect=30, pad=0.2)\n",
    "except:\n",
    "    cbar = fig.colorbar(im, ax=axes,location='bottom', label=label, shrink=0.8, aspect=25, pad=0.16)\n",
    "\n",
    "cbar.ax.tick_params(labelsize=12) \n",
    "cbar.ax.tick_params(labelsize=12) \n",
    "\n",
    "plt.axvline(x=1650,color='grey',alpha=0.5)\n",
    "\n",
    "if ofile is not None:\n",
    "    plt.savefig(ofile, dpi=dpi,bbox_inches='tight')\n",
    "    os.system(f'convert {ofile} -trim {ofile}_trimmed.png')\n",
    "    os.system(f'mv {ofile}_trimmed.png {ofile}')"
   ]
  },
  {
   "cell_type": "code",
   "execution_count": null,
   "metadata": {},
   "outputs": [],
   "source": []
  }
 ],
 "metadata": {
  "kernelspec": {
   "display_name": "Python 3 (ipykernel)",
   "language": "python",
   "name": "python3"
  },
  "language_info": {
   "codemirror_mode": {
    "name": "ipython",
    "version": 3
   },
   "file_extension": ".py",
   "mimetype": "text/x-python",
   "name": "python",
   "nbconvert_exporter": "python",
   "pygments_lexer": "ipython3",
   "version": "3.9.10"
  }
 },
 "nbformat": 4,
 "nbformat_minor": 4
}
